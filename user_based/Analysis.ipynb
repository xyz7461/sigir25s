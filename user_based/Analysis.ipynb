{
 "cells": [
  {
   "cell_type": "code",
   "id": "initial_id",
   "metadata": {
    "collapsed": true,
    "ExecuteTime": {
     "end_time": "2024-12-04T04:44:59.908032Z",
     "start_time": "2024-12-04T04:44:59.733686Z"
    }
   },
   "source": "import pandas as pd",
   "outputs": [],
   "execution_count": 1
  },
  {
   "metadata": {
    "ExecuteTime": {
     "end_time": "2024-12-04T04:44:59.929231Z",
     "start_time": "2024-12-04T04:44:59.911829Z"
    }
   },
   "cell_type": "code",
   "source": [
    "movies = pd.read_csv('../orig_data/movies.csv')\n",
    "ratings = pd.read_csv('../orig_data/ratings.csv')"
   ],
   "id": "b7126f5eac4766f2",
   "outputs": [],
   "execution_count": 2
  },
  {
   "metadata": {
    "ExecuteTime": {
     "end_time": "2024-12-04T04:45:00.007161Z",
     "start_time": "2024-12-04T04:45:00.004728Z"
    }
   },
   "cell_type": "code",
   "source": [
    "movies.drop('genres', inplace=True, axis=1)\n",
    "ratings.drop('timestamp', inplace=True, axis=1)"
   ],
   "id": "ee29cc10ec09ab08",
   "outputs": [],
   "execution_count": 3
  },
  {
   "metadata": {
    "ExecuteTime": {
     "end_time": "2024-12-04T04:45:00.015331Z",
     "start_time": "2024-12-04T04:45:00.009254Z"
    }
   },
   "cell_type": "code",
   "source": "df = pd.merge(movies, ratings, how='left', on='movieId')",
   "id": "53f3901792953b9c",
   "outputs": [],
   "execution_count": 4
  },
  {
   "metadata": {
    "ExecuteTime": {
     "end_time": "2024-12-04T04:45:00.025304Z",
     "start_time": "2024-12-04T04:45:00.020321Z"
    }
   },
   "cell_type": "code",
   "source": "df[df['userId'] == 1].head()",
   "id": "9d67991f2f30c57c",
   "outputs": [
    {
     "data": {
      "text/plain": [
       "      movieId                        title  userId  rating\n",
       "0           1             Toy Story (1995)     1.0     4.0\n",
       "325         3      Grumpier Old Men (1995)     1.0     4.0\n",
       "433         6                  Heat (1995)     1.0     4.0\n",
       "2107       47  Seven (a.k.a. Se7en) (1995)     1.0     5.0\n",
       "2379       50   Usual Suspects, The (1995)     1.0     5.0"
      ],
      "text/html": [
       "<div>\n",
       "<style scoped>\n",
       "    .dataframe tbody tr th:only-of-type {\n",
       "        vertical-align: middle;\n",
       "    }\n",
       "\n",
       "    .dataframe tbody tr th {\n",
       "        vertical-align: top;\n",
       "    }\n",
       "\n",
       "    .dataframe thead th {\n",
       "        text-align: right;\n",
       "    }\n",
       "</style>\n",
       "<table border=\"1\" class=\"dataframe\">\n",
       "  <thead>\n",
       "    <tr style=\"text-align: right;\">\n",
       "      <th></th>\n",
       "      <th>movieId</th>\n",
       "      <th>title</th>\n",
       "      <th>userId</th>\n",
       "      <th>rating</th>\n",
       "    </tr>\n",
       "  </thead>\n",
       "  <tbody>\n",
       "    <tr>\n",
       "      <th>0</th>\n",
       "      <td>1</td>\n",
       "      <td>Toy Story (1995)</td>\n",
       "      <td>1.0</td>\n",
       "      <td>4.0</td>\n",
       "    </tr>\n",
       "    <tr>\n",
       "      <th>325</th>\n",
       "      <td>3</td>\n",
       "      <td>Grumpier Old Men (1995)</td>\n",
       "      <td>1.0</td>\n",
       "      <td>4.0</td>\n",
       "    </tr>\n",
       "    <tr>\n",
       "      <th>433</th>\n",
       "      <td>6</td>\n",
       "      <td>Heat (1995)</td>\n",
       "      <td>1.0</td>\n",
       "      <td>4.0</td>\n",
       "    </tr>\n",
       "    <tr>\n",
       "      <th>2107</th>\n",
       "      <td>47</td>\n",
       "      <td>Seven (a.k.a. Se7en) (1995)</td>\n",
       "      <td>1.0</td>\n",
       "      <td>5.0</td>\n",
       "    </tr>\n",
       "    <tr>\n",
       "      <th>2379</th>\n",
       "      <td>50</td>\n",
       "      <td>Usual Suspects, The (1995)</td>\n",
       "      <td>1.0</td>\n",
       "      <td>5.0</td>\n",
       "    </tr>\n",
       "  </tbody>\n",
       "</table>\n",
       "</div>"
      ]
     },
     "execution_count": 5,
     "metadata": {},
     "output_type": "execute_result"
    }
   ],
   "execution_count": 5
  },
  {
   "metadata": {
    "ExecuteTime": {
     "end_time": "2024-12-04T04:45:00.059674Z",
     "start_time": "2024-12-04T04:45:00.045221Z"
    }
   },
   "cell_type": "code",
   "source": [
    "df1 = pd.read_csv('../orig_data/fin_tst.csv')\n",
    "df1.head()"
   ],
   "id": "4d231b725e301822",
   "outputs": [
    {
     "data": {
      "text/plain": [
       "   userId                                             target  \\\n",
       "0       1  [\"Pete's Dragon (1977)-Adventure|Animation|Chi...   \n",
       "1       2  ['Shawshank Redemption, The (1994)-Crime|Drama...   \n",
       "2       3  ['Galaxy of Terror (Quest) (1981)-Action|Horro...   \n",
       "3       4  ['Series 7: The Contenders (2001)-Action|Drama...   \n",
       "4       5       ['Batman (1989)-Action|Crime|Thriller', 3.0]   \n",
       "\n",
       "                                             samples     id  \n",
       "0  {'Desperado (1995)-Action|Romance|Western': 5....  0_US1  \n",
       "1  {'Good Will Hunting (1997)-Drama|Romance': 4.5...  1_US2  \n",
       "2  {'Conan the Barbarian (1982)-Action|Adventure|...  2_US3  \n",
       "3  {'Maverick (1994)-Adventure|Comedy|Western': 4...  3_US4  \n",
       "4  {'Dances with Wolves (1990)-Adventure|Drama|We...  4_US5  "
      ],
      "text/html": [
       "<div>\n",
       "<style scoped>\n",
       "    .dataframe tbody tr th:only-of-type {\n",
       "        vertical-align: middle;\n",
       "    }\n",
       "\n",
       "    .dataframe tbody tr th {\n",
       "        vertical-align: top;\n",
       "    }\n",
       "\n",
       "    .dataframe thead th {\n",
       "        text-align: right;\n",
       "    }\n",
       "</style>\n",
       "<table border=\"1\" class=\"dataframe\">\n",
       "  <thead>\n",
       "    <tr style=\"text-align: right;\">\n",
       "      <th></th>\n",
       "      <th>userId</th>\n",
       "      <th>target</th>\n",
       "      <th>samples</th>\n",
       "      <th>id</th>\n",
       "    </tr>\n",
       "  </thead>\n",
       "  <tbody>\n",
       "    <tr>\n",
       "      <th>0</th>\n",
       "      <td>1</td>\n",
       "      <td>[\"Pete's Dragon (1977)-Adventure|Animation|Chi...</td>\n",
       "      <td>{'Desperado (1995)-Action|Romance|Western': 5....</td>\n",
       "      <td>0_US1</td>\n",
       "    </tr>\n",
       "    <tr>\n",
       "      <th>1</th>\n",
       "      <td>2</td>\n",
       "      <td>['Shawshank Redemption, The (1994)-Crime|Drama...</td>\n",
       "      <td>{'Good Will Hunting (1997)-Drama|Romance': 4.5...</td>\n",
       "      <td>1_US2</td>\n",
       "    </tr>\n",
       "    <tr>\n",
       "      <th>2</th>\n",
       "      <td>3</td>\n",
       "      <td>['Galaxy of Terror (Quest) (1981)-Action|Horro...</td>\n",
       "      <td>{'Conan the Barbarian (1982)-Action|Adventure|...</td>\n",
       "      <td>2_US3</td>\n",
       "    </tr>\n",
       "    <tr>\n",
       "      <th>3</th>\n",
       "      <td>4</td>\n",
       "      <td>['Series 7: The Contenders (2001)-Action|Drama...</td>\n",
       "      <td>{'Maverick (1994)-Adventure|Comedy|Western': 4...</td>\n",
       "      <td>3_US4</td>\n",
       "    </tr>\n",
       "    <tr>\n",
       "      <th>4</th>\n",
       "      <td>5</td>\n",
       "      <td>['Batman (1989)-Action|Crime|Thriller', 3.0]</td>\n",
       "      <td>{'Dances with Wolves (1990)-Adventure|Drama|We...</td>\n",
       "      <td>4_US5</td>\n",
       "    </tr>\n",
       "  </tbody>\n",
       "</table>\n",
       "</div>"
      ]
     },
     "execution_count": 6,
     "metadata": {},
     "output_type": "execute_result"
    }
   ],
   "execution_count": 6
  },
  {
   "metadata": {
    "ExecuteTime": {
     "end_time": "2024-12-04T04:45:00.119446Z",
     "start_time": "2024-12-04T04:45:00.077566Z"
    }
   },
   "cell_type": "code",
   "source": [
    "import ast\n",
    "df1['target'] = df1['target'].apply(ast.literal_eval)\n",
    "df1['target'] = df1['target'].apply(lambda x: str(x[0]).split(')-')[0]+')')"
   ],
   "id": "3c6e57c31ce4d3c4",
   "outputs": [],
   "execution_count": 7
  },
  {
   "metadata": {
    "ExecuteTime": {
     "end_time": "2024-12-04T04:45:00.143455Z",
     "start_time": "2024-12-04T04:45:00.139941Z"
    }
   },
   "cell_type": "code",
   "source": "df1.head()",
   "id": "773d363020a78b1",
   "outputs": [
    {
     "data": {
      "text/plain": [
       "   userId                            target  \\\n",
       "0       1              Pete's Dragon (1977)   \n",
       "1       2  Shawshank Redemption, The (1994)   \n",
       "2       3   Galaxy of Terror (Quest) (1981)   \n",
       "3       4   Series 7: The Contenders (2001)   \n",
       "4       5                     Batman (1989)   \n",
       "\n",
       "                                             samples     id  \n",
       "0  {'Desperado (1995)-Action|Romance|Western': 5....  0_US1  \n",
       "1  {'Good Will Hunting (1997)-Drama|Romance': 4.5...  1_US2  \n",
       "2  {'Conan the Barbarian (1982)-Action|Adventure|...  2_US3  \n",
       "3  {'Maverick (1994)-Adventure|Comedy|Western': 4...  3_US4  \n",
       "4  {'Dances with Wolves (1990)-Adventure|Drama|We...  4_US5  "
      ],
      "text/html": [
       "<div>\n",
       "<style scoped>\n",
       "    .dataframe tbody tr th:only-of-type {\n",
       "        vertical-align: middle;\n",
       "    }\n",
       "\n",
       "    .dataframe tbody tr th {\n",
       "        vertical-align: top;\n",
       "    }\n",
       "\n",
       "    .dataframe thead th {\n",
       "        text-align: right;\n",
       "    }\n",
       "</style>\n",
       "<table border=\"1\" class=\"dataframe\">\n",
       "  <thead>\n",
       "    <tr style=\"text-align: right;\">\n",
       "      <th></th>\n",
       "      <th>userId</th>\n",
       "      <th>target</th>\n",
       "      <th>samples</th>\n",
       "      <th>id</th>\n",
       "    </tr>\n",
       "  </thead>\n",
       "  <tbody>\n",
       "    <tr>\n",
       "      <th>0</th>\n",
       "      <td>1</td>\n",
       "      <td>Pete's Dragon (1977)</td>\n",
       "      <td>{'Desperado (1995)-Action|Romance|Western': 5....</td>\n",
       "      <td>0_US1</td>\n",
       "    </tr>\n",
       "    <tr>\n",
       "      <th>1</th>\n",
       "      <td>2</td>\n",
       "      <td>Shawshank Redemption, The (1994)</td>\n",
       "      <td>{'Good Will Hunting (1997)-Drama|Romance': 4.5...</td>\n",
       "      <td>1_US2</td>\n",
       "    </tr>\n",
       "    <tr>\n",
       "      <th>2</th>\n",
       "      <td>3</td>\n",
       "      <td>Galaxy of Terror (Quest) (1981)</td>\n",
       "      <td>{'Conan the Barbarian (1982)-Action|Adventure|...</td>\n",
       "      <td>2_US3</td>\n",
       "    </tr>\n",
       "    <tr>\n",
       "      <th>3</th>\n",
       "      <td>4</td>\n",
       "      <td>Series 7: The Contenders (2001)</td>\n",
       "      <td>{'Maverick (1994)-Adventure|Comedy|Western': 4...</td>\n",
       "      <td>3_US4</td>\n",
       "    </tr>\n",
       "    <tr>\n",
       "      <th>4</th>\n",
       "      <td>5</td>\n",
       "      <td>Batman (1989)</td>\n",
       "      <td>{'Dances with Wolves (1990)-Adventure|Drama|We...</td>\n",
       "      <td>4_US5</td>\n",
       "    </tr>\n",
       "  </tbody>\n",
       "</table>\n",
       "</div>"
      ]
     },
     "execution_count": 8,
     "metadata": {},
     "output_type": "execute_result"
    }
   ],
   "execution_count": 8
  },
  {
   "metadata": {
    "ExecuteTime": {
     "end_time": "2024-12-04T04:45:00.181316Z",
     "start_time": "2024-12-04T04:45:00.170635Z"
    }
   },
   "cell_type": "code",
   "source": [
    "grouped = df1.groupby('userId')['target'].agg(list).reset_index()\n",
    "grouped.head()"
   ],
   "id": "a5d86d5513c4a9ac",
   "outputs": [
    {
     "data": {
      "text/plain": [
       "   userId                                             target\n",
       "0       1  [Pete's Dragon (1977), Teenage Mutant Ninja Tu...\n",
       "1       2  [Shawshank Redemption, The (1994), The Drop (2...\n",
       "2       3  [Galaxy of Terror (Quest) (1981), On Golden Po...\n",
       "3       4  [Series 7: The Contenders (2001), Living in Ob...\n",
       "4       5  [Batman (1989), Four Weddings and a Funeral (1..."
      ],
      "text/html": [
       "<div>\n",
       "<style scoped>\n",
       "    .dataframe tbody tr th:only-of-type {\n",
       "        vertical-align: middle;\n",
       "    }\n",
       "\n",
       "    .dataframe tbody tr th {\n",
       "        vertical-align: top;\n",
       "    }\n",
       "\n",
       "    .dataframe thead th {\n",
       "        text-align: right;\n",
       "    }\n",
       "</style>\n",
       "<table border=\"1\" class=\"dataframe\">\n",
       "  <thead>\n",
       "    <tr style=\"text-align: right;\">\n",
       "      <th></th>\n",
       "      <th>userId</th>\n",
       "      <th>target</th>\n",
       "    </tr>\n",
       "  </thead>\n",
       "  <tbody>\n",
       "    <tr>\n",
       "      <th>0</th>\n",
       "      <td>1</td>\n",
       "      <td>[Pete's Dragon (1977), Teenage Mutant Ninja Tu...</td>\n",
       "    </tr>\n",
       "    <tr>\n",
       "      <th>1</th>\n",
       "      <td>2</td>\n",
       "      <td>[Shawshank Redemption, The (1994), The Drop (2...</td>\n",
       "    </tr>\n",
       "    <tr>\n",
       "      <th>2</th>\n",
       "      <td>3</td>\n",
       "      <td>[Galaxy of Terror (Quest) (1981), On Golden Po...</td>\n",
       "    </tr>\n",
       "    <tr>\n",
       "      <th>3</th>\n",
       "      <td>4</td>\n",
       "      <td>[Series 7: The Contenders (2001), Living in Ob...</td>\n",
       "    </tr>\n",
       "    <tr>\n",
       "      <th>4</th>\n",
       "      <td>5</td>\n",
       "      <td>[Batman (1989), Four Weddings and a Funeral (1...</td>\n",
       "    </tr>\n",
       "  </tbody>\n",
       "</table>\n",
       "</div>"
      ]
     },
     "execution_count": 9,
     "metadata": {},
     "output_type": "execute_result"
    }
   ],
   "execution_count": 9
  },
  {
   "metadata": {},
   "cell_type": "markdown",
   "source": "User based recommendation system",
   "id": "f75115e7ee766e73"
  },
  {
   "metadata": {
    "ExecuteTime": {
     "end_time": "2024-12-04T04:45:01.068337Z",
     "start_time": "2024-12-04T04:45:00.243476Z"
    }
   },
   "cell_type": "code",
   "source": [
    "import pandas as pd\n",
    "import numpy as np\n",
    "import sklearn\n",
    "from sklearn.metrics.pairwise import cosine_similarity\n",
    "from sklearn.preprocessing import LabelEncoder\n",
    "\n",
    "# Step 1: Create a User-Item Matrix\n",
    "user_item_matrix = df.pivot_table(index='userId', columns='title', values='rating', fill_value=0)\n",
    "\n",
    "# Step 2: Compute User Similarity (Cosine Similarity)\n",
    "user_similarity = cosine_similarity(user_item_matrix)\n",
    "\n",
    "# Convert to DataFrame for better readability\n",
    "user_similarity_df = pd.DataFrame(user_similarity, index=user_item_matrix.index, columns=user_item_matrix.index)\n",
    "# user_similarity_df.head()"
   ],
   "id": "2f2aaa509d798b8e",
   "outputs": [],
   "execution_count": 10
  },
  {
   "metadata": {
    "ExecuteTime": {
     "end_time": "2024-12-04T04:45:01.105839Z",
     "start_time": "2024-12-04T04:45:01.102286Z"
    }
   },
   "cell_type": "code",
   "source": [
    "similar_users = user_similarity_df[1].sort_values(ascending=False).iloc[1:]\n",
    "similar_users"
   ],
   "id": "c88c623a0501850",
   "outputs": [
    {
     "data": {
      "text/plain": [
       "userId\n",
       "266.0    0.357408\n",
       "313.0    0.351562\n",
       "368.0    0.345127\n",
       "57.0     0.345034\n",
       "91.0     0.334727\n",
       "           ...   \n",
       "578.0    0.000000\n",
       "506.0    0.000000\n",
       "175.0    0.000000\n",
       "556.0    0.000000\n",
       "306.0    0.000000\n",
       "Name: 1.0, Length: 609, dtype: float64"
      ]
     },
     "execution_count": 11,
     "metadata": {},
     "output_type": "execute_result"
    }
   ],
   "execution_count": 11
  },
  {
   "metadata": {
    "ExecuteTime": {
     "end_time": "2024-12-04T04:45:01.112861Z",
     "start_time": "2024-12-04T04:45:01.110510Z"
    }
   },
   "cell_type": "code",
   "source": [
    "def predict_ratings(user_id, movie_list, user_item_matrix, user_similarity_df):\n",
    "    # Get the most similar users to the input user (sorted in descending order)\n",
    "    similar_users = user_similarity_df[user_id].sort_values(ascending=False).iloc[1:]  # Exclude the user itself (self-similarity)\n",
    "\n",
    "    predicted_ratings = {}\n",
    "\n",
    "    # For each movie in the list to predict\n",
    "    for movie in movie_list:\n",
    "        # Initialize a weighted sum and a sum of weights\n",
    "        weighted_ratings = 0\n",
    "        total_weight = 0\n",
    "\n",
    "        # Iterate through similar users and accumulate weighted ratings\n",
    "        for similar_user, similarity_score in similar_users.items():\n",
    "            # If the similar user has rated the movie, add their weighted rating\n",
    "            movie_rating = user_item_matrix.loc[similar_user, movie]\n",
    "            if movie_rating > 0:\n",
    "                weighted_ratings += similarity_score * movie_rating\n",
    "                total_weight += similarity_score\n",
    "\n",
    "        # If total_weight > 0, we calculate the predicted rating as the weighted average\n",
    "        if total_weight > 0:\n",
    "            predicted_rating = weighted_ratings / total_weight\n",
    "        else:\n",
    "            predicted_rating = 0  # If no similar user has rated this movie, we predict 0\n",
    "\n",
    "        predicted_ratings[movie] = predicted_rating\n",
    "\n",
    "    return predicted_ratings\n"
   ],
   "id": "6a1a607f30c90d9",
   "outputs": [],
   "execution_count": 12
  },
  {
   "metadata": {
    "ExecuteTime": {
     "end_time": "2024-12-04T04:45:01.158904Z",
     "start_time": "2024-12-04T04:45:01.135730Z"
    }
   },
   "cell_type": "code",
   "source": [
    "user_id = 7\n",
    "movie_list = grouped[grouped['userId'] == user_id]['target'].iloc[0]\n",
    "print(movie_list)\n",
    "predicted_ratings = predict_ratings(user_id, movie_list, user_item_matrix, user_similarity_df)\n",
    "print(f\"Predicted ratings for user {user_id}:\")\n",
    "for movie, rating in predicted_ratings.items():\n",
    "    print(f\"{movie}: {rating:.2f}\")"
   ],
   "id": "a7e52e100f9f0d38",
   "outputs": [
    {
     "name": "stdout",
     "output_type": "stream",
     "text": [
      "['Planet of the Apes (1968)', 'Pearl Harbor (2001)', 'Star Wars: Episode VI - Return of the Jedi (1983)', 'Aladdin (1992)', 'Aviator, The (2004)', 'Hostage (2005)', 'Psycho (1960)', 'X-Men: The Last Stand (2006)', 'Star Wars: Episode VI - Return of the Jedi (1983)', 'Calendar Girls (2003)']\n",
      "Predicted ratings for user 7:\n",
      "Planet of the Apes (1968): 3.77\n",
      "Pearl Harbor (2001): 2.99\n",
      "Star Wars: Episode VI - Return of the Jedi (1983): 4.17\n",
      "Aladdin (1992): 3.80\n",
      "Aviator, The (2004): 3.57\n",
      "Hostage (2005): 3.20\n",
      "Psycho (1960): 4.03\n",
      "X-Men: The Last Stand (2006): 3.37\n",
      "Calendar Girls (2003): 2.39\n"
     ]
    }
   ],
   "execution_count": 13
  },
  {
   "metadata": {
    "ExecuteTime": {
     "end_time": "2024-12-04T04:45:11.535299Z",
     "start_time": "2024-12-04T04:45:01.225309Z"
    }
   },
   "cell_type": "code",
   "source": [
    "predictions = []\n",
    "\n",
    "for user_id in grouped['userId'].unique():\n",
    "    # print(user_id)\n",
    "    movie_list = grouped[grouped['userId'] == user_id]['target'].iloc[0]\n",
    "    movie_list = list(set(movie_list))\n",
    "    predicted_ratings = predict_ratings(user_id, movie_list, user_item_matrix, user_similarity_df)\n",
    "\n",
    "    for movie, rating in predicted_ratings.items():\n",
    "        predictions.append({\n",
    "            'userId': user_id,\n",
    "            'title': movie,\n",
    "            'predicted_rating': rating\n",
    "        })\n",
    "\n",
    "# Convert the predictions list to a DataFrame\n",
    "predictions_df = pd.DataFrame(predictions)\n",
    "\n",
    "# Save the DataFrame to a CSV file\n",
    "predictions_df.to_csv('trad_user_ratings.csv', index=False)\n",
    "\n",
    "# Print confirmation\n",
    "print(\"Predicted ratings have been saved to 'trad_user_ratings.csv'.\")"
   ],
   "id": "773269fd2003b809",
   "outputs": [
    {
     "name": "stdout",
     "output_type": "stream",
     "text": [
      "Predicted ratings have been saved to 'user_based_ratings.csv'.\n"
     ]
    }
   ],
   "execution_count": 14
  }
 ],
 "metadata": {
  "kernelspec": {
   "display_name": "Python 3",
   "language": "python",
   "name": "python3"
  },
  "language_info": {
   "codemirror_mode": {
    "name": "ipython",
    "version": 2
   },
   "file_extension": ".py",
   "mimetype": "text/x-python",
   "name": "python",
   "nbconvert_exporter": "python",
   "pygments_lexer": "ipython2",
   "version": "2.7.6"
  }
 },
 "nbformat": 4,
 "nbformat_minor": 5
}
