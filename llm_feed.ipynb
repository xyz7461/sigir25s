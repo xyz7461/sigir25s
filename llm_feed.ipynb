{
 "cells": [
  {
   "cell_type": "code",
   "id": "initial_id",
   "metadata": {
    "collapsed": true,
    "id": "initial_id",
    "ExecuteTime": {
     "end_time": "2024-12-11T06:52:22.471392Z",
     "start_time": "2024-12-11T06:52:22.470178Z"
    }
   },
   "source": [
    "import pandas as pd\n",
    "from itertools import islice\n",
    "import os\n",
    "import json"
   ],
   "outputs": [],
   "execution_count": 1
  },
  {
   "metadata": {
    "ExecuteTime": {
     "end_time": "2024-12-11T06:52:26.400253Z",
     "start_time": "2024-12-11T06:52:22.474763Z"
    }
   },
   "cell_type": "code",
   "source": [
    "%%bash\n",
    "curl http://localhost:11434/api/chat -d '{\n",
    "  \"model\": \"qwen2.5-coder:32b\",\n",
    "  \"messages\": [\n",
    "    {\n",
    "      \"role\": \"user\",\n",
    "      \"content\": \"who wrote the book godfather?\"\n",
    "    }\n",
    "  ],\n",
    "  \"stream\": false,\n",
    "  \"options\": {\n",
    "    \"temperature\": 5,\n",
    "    \"num_predict\": 75\n",
    "    }\n",
    "}'"
   ],
   "id": "a673776d0b0238b1",
   "outputs": [
    {
     "name": "stderr",
     "output_type": "stream",
     "text": [
      "  % Total    % Received % Xferd  Average Speed   Time    Time     Time  Current\n",
      "                                 Dload  Upload   Total   Spent    Left  Speed\n",
      "100   734  100   511  100   223    131     57  0:00:03  0:00:03 --:--:--   188\n"
     ]
    },
    {
     "name": "stdout",
     "output_type": "stream",
     "text": [
      "{\"model\":\"qwen2.5-coder:32b\",\"created_at\":\"2024-12-11T06:52:26.392666Z\",\"message\":{\"role\":\"assistant\",\"content\":\"The book \\\"The Godfather\\\" was written by Mario Puzo. It was first published in 1969 and became an enormous success, leading to subsequent sequels and a famous film adaptation directed by Francis Ford Coppola.\"},\"done_reason\":\"stop\",\"done\":true,\"total_duration\":3895614875,\"load_duration\":554263209,\"prompt_eval_count\":36,\"prompt_eval_duration\":689000000,\"eval_count\":49,\"eval_duration\":2479000000}"
     ]
    }
   ],
   "execution_count": 2
  },
  {
   "metadata": {
    "ExecuteTime": {
     "end_time": "2024-12-11T06:52:26.513853Z",
     "start_time": "2024-12-11T06:52:26.477473Z"
    }
   },
   "cell_type": "code",
   "source": [
    "import requests\n",
    "import json\n",
    "\n",
    "url = \"http://localhost:11434/api/chat\""
   ],
   "id": "7caa69b95408cec8",
   "outputs": [
    {
     "name": "stderr",
     "output_type": "stream",
     "text": [
      "/Users/ethan/Library/Python/3.9/lib/python/site-packages/urllib3/__init__.py:35: NotOpenSSLWarning: urllib3 v2 only supports OpenSSL 1.1.1+, currently the 'ssl' module is compiled with 'LibreSSL 2.8.3'. See: https://github.com/urllib3/urllib3/issues/3020\n",
      "  warnings.warn(\n"
     ]
    }
   ],
   "execution_count": 3
  },
  {
   "metadata": {
    "ExecuteTime": {
     "end_time": "2024-12-11T06:52:26.521295Z",
     "start_time": "2024-12-11T06:52:26.519912Z"
    }
   },
   "cell_type": "code",
   "source": "# llama3('who wrote the book godfather?')",
   "id": "f8ec8b55ec65bfa4",
   "outputs": [],
   "execution_count": 4
  },
  {
   "metadata": {
    "id": "bd3f002e59024c41",
    "ExecuteTime": {
     "end_time": "2024-12-11T06:52:26.526254Z",
     "start_time": "2024-12-11T06:52:26.524735Z"
    }
   },
   "cell_type": "code",
   "source": [
    "def batch_iterator(iterator, batch_size):\n",
    "    iterator = iter(iterator)\n",
    "    while True:\n",
    "        batch = tuple(islice(iterator, batch_size))\n",
    "        if not batch:\n",
    "            return\n",
    "        yield batch"
   ],
   "id": "bd3f002e59024c41",
   "outputs": [],
   "execution_count": 5
  },
  {
   "cell_type": "code",
   "source": [
    "def read_system_prompt(file_path):\n",
    "    if os.path.isfile(file_path):\n",
    "        with open(file_path, 'r') as file:\n",
    "            return file.read()\n",
    "    else:\n",
    "        return \"\""
   ],
   "metadata": {
    "id": "XKFovfCTsApP",
    "ExecuteTime": {
     "end_time": "2024-12-11T06:52:26.531222Z",
     "start_time": "2024-12-11T06:52:26.529725Z"
    }
   },
   "id": "XKFovfCTsApP",
   "outputs": [],
   "execution_count": 6
  },
  {
   "cell_type": "code",
   "source": [
    "def read_completed_ids(output_csv_path):\n",
    "    if os.path.exists(output_csv_path) and os.path.getsize(output_csv_path) > 0:\n",
    "        df = pd.read_csv(output_csv_path)\n",
    "        return set(df['id'])\n",
    "    else:\n",
    "        return set()"
   ],
   "metadata": {
    "id": "klrgAb3gsDFf",
    "ExecuteTime": {
     "end_time": "2024-12-11T06:52:26.536318Z",
     "start_time": "2024-12-11T06:52:26.534582Z"
    }
   },
   "id": "klrgAb3gsDFf",
   "outputs": [],
   "execution_count": 7
  },
  {
   "metadata": {
    "id": "MTiXMXlYsHrQ",
    "ExecuteTime": {
     "end_time": "2024-12-11T06:52:26.540845Z",
     "start_time": "2024-12-11T06:52:26.539575Z"
    }
   },
   "cell_type": "code",
   "source": [
    "# from transformers import StoppingCriteria, StoppingCriteriaList\n",
    "#\n",
    "# class EndCurlyBraceStoppingCriteria(StoppingCriteria):\n",
    "#     def __init__(self, tokenizer):\n",
    "#         self.tokenizer = tokenizer\n",
    "#         self.end_token_id = tokenizer.convert_tokens_to_ids(\"}\")\n",
    "#\n",
    "#     def __call__(self, input_ids, scores, **kwargs):\n",
    "#         # Check if the last token generated is the end curly brace\n",
    "#         return input_ids[0, -1] == self.end_token_id"
   ],
   "id": "MTiXMXlYsHrQ",
   "outputs": [],
   "execution_count": 8
  },
  {
   "cell_type": "code",
   "source": [
    "# !pip install compressed-tensors"
   ],
   "metadata": {
    "id": "dUdDYRBKuRMt",
    "ExecuteTime": {
     "end_time": "2024-12-11T06:52:26.545384Z",
     "start_time": "2024-12-11T06:52:26.544170Z"
    }
   },
   "id": "dUdDYRBKuRMt",
   "outputs": [],
   "execution_count": 9
  },
  {
   "cell_type": "code",
   "source": "!pip3 install --upgrade pip",
   "metadata": {
    "colab": {
     "base_uri": "https://localhost:8080/"
    },
    "id": "oUxWwmGnv1kq",
    "outputId": "22cbc497-ed6f-4a65-82f2-5391894b846a",
    "ExecuteTime": {
     "end_time": "2024-12-11T06:52:27.679085Z",
     "start_time": "2024-12-11T06:52:26.548724Z"
    }
   },
   "id": "oUxWwmGnv1kq",
   "outputs": [
    {
     "name": "stdout",
     "output_type": "stream",
     "text": [
      "Defaulting to user installation because normal site-packages is not writeable\r\n",
      "Requirement already satisfied: pip in /Users/ethan/Library/Python/3.9/lib/python/site-packages (24.3.1)\r\n"
     ]
    }
   ],
   "execution_count": 10
  },
  {
   "cell_type": "code",
   "source": [
    "# !pip install llmcompressor\n",
    "# !pip install transformers[torch]"
   ],
   "metadata": {
    "collapsed": true,
    "id": "m6XByojwvxDk",
    "ExecuteTime": {
     "end_time": "2024-12-11T06:52:27.685197Z",
     "start_time": "2024-12-11T06:52:27.683877Z"
    }
   },
   "id": "m6XByojwvxDk",
   "outputs": [],
   "execution_count": 11
  },
  {
   "cell_type": "code",
   "source": "# !pip install compressed-tensors",
   "metadata": {
    "collapsed": true,
    "id": "jx9wwC5uu3ru",
    "ExecuteTime": {
     "end_time": "2024-12-11T06:52:27.690398Z",
     "start_time": "2024-12-11T06:52:27.688935Z"
    }
   },
   "id": "jx9wwC5uu3ru",
   "outputs": [],
   "execution_count": 12
  },
  {
   "cell_type": "code",
   "source": [
    "# input_df['id'] = input_df.index.astype(str) +'_US' +  input_df['userId'].astype(str)\n",
    "# input_df.head()\n",
    "# input_df.to_csv('fin_tst.csv', index=False)"
   ],
   "metadata": {
    "id": "0m7BrnaRz0W_",
    "ExecuteTime": {
     "end_time": "2024-12-11T06:52:27.695113Z",
     "start_time": "2024-12-11T06:52:27.693869Z"
    }
   },
   "id": "0m7BrnaRz0W_",
   "outputs": [],
   "execution_count": 13
  },
  {
   "metadata": {
    "ExecuteTime": {
     "end_time": "2024-12-11T06:52:27.699785Z",
     "start_time": "2024-12-11T06:52:27.698533Z"
    }
   },
   "cell_type": "code",
   "source": "# !pip3 install transformers",
   "id": "2b3177616651252e",
   "outputs": [],
   "execution_count": 14
  },
  {
   "metadata": {
    "ExecuteTime": {
     "end_time": "2024-12-11T06:52:27.705188Z",
     "start_time": "2024-12-11T06:52:27.703142Z"
    }
   },
   "cell_type": "code",
   "source": [
    "def llama3(prompt):\n",
    "    data = {\n",
    "        \"model\": \"llama3:70b\",\n",
    "        # \"model\": \"qwen2.5-coder:32b\",\n",
    "        \"messages\": [\n",
    "            {\n",
    "                \"role\": \"user\",\n",
    "                \"content\": prompt,\n",
    "            }\n",
    "        ],\n",
    "        \"stream\": False,\n",
    "        \"options\": {\n",
    "            \"temperature\": 0.7,\n",
    "            \"top_p\": 0.2,\n",
    "            \"num_predict\": 75,\n",
    "            \"stop\":[\"}\"],\n",
    "        },\n",
    "    }\n",
    "\n",
    "    headers = {\n",
    "        \"Content-Type\": \"application/json\"\n",
    "    }\n",
    "\n",
    "    response = requests.post(url, headers=headers, json=data)\n",
    "    # print('r: ', response.json())\n",
    "    return response.json()[\"message\"][\"content\"]\n"
   ],
   "id": "aafc10f49a02a36b",
   "outputs": [],
   "execution_count": 15
  },
  {
   "metadata": {
    "ExecuteTime": {
     "end_time": "2024-12-11T06:52:27.709716Z",
     "start_time": "2024-12-11T06:52:27.708474Z"
    }
   },
   "cell_type": "code",
   "source": "# llama3('Who shot mr. burns?')",
   "id": "2f27fa7c17d11a31",
   "outputs": [],
   "execution_count": 16
  },
  {
   "cell_type": "code",
   "source": [
    "# from transformers import AutoModelForCausalLM, AutoTokenizer\n",
    "from itertools import islice\n",
    "# import torch\n",
    "\n",
    "system_prompt_file='prompt'\n",
    "input_csv_path= 'orig_data/fin_tst_10.csv'\n",
    "batch_size=10\n",
    "\n",
    "# Set device\n",
    "# device = \"cuda\" if torch.cuda.is_available() else \"cpu\"\n",
    "\n",
    "# # Load tokenizer\n",
    "# tokenizer = AutoTokenizer.from_pretrained(model_name, padding_side='left')\n",
    "#\n",
    "# model = AutoModelForCausalLM.from_pretrained(model_name).to(device)\n",
    "\n",
    "# print('Going into the main loop now!')\n",
    "\n",
    "# end_curly_brace_criteria = EndCurlyBraceStoppingCriteria(tokenizer)\n",
    "i = 0"
   ],
   "metadata": {
    "colab": {
     "base_uri": "https://localhost:8080/",
     "height": 84,
     "referenced_widgets": [
      "1ae5307e810d4326a7abd785a3df28cd",
      "d5c986c950264ce19afbaf21acddca49",
      "ff9e98af1be44be8a43607f1e5dd9928",
      "113b2a825e0b4ae1a30699aab5bc1116",
      "708abd5af31b4f6a9573c09c5c2ad23d",
      "22bed13ce7344d63be0f21c2ea09f450",
      "58b29f9831e24153b96661c3397b97c8",
      "105222d24e884d648f77ccec1f8ae1a0",
      "c5e1fb441f34463192c8340a390a3757",
      "932a86d88bdb4bb09b09cdd3e15d3c54",
      "fcc356927dee4013a4cc4a5d3f7d69ae"
     ]
    },
    "id": "Aa1ubR_frNB_",
    "outputId": "d271146b-7c07-4552-eee4-9946bdea2b6e",
    "ExecuteTime": {
     "end_time": "2024-12-11T06:52:27.714562Z",
     "start_time": "2024-12-11T06:52:27.713156Z"
    }
   },
   "id": "Aa1ubR_frNB_",
   "outputs": [],
   "execution_count": 17
  },
  {
   "metadata": {
    "id": "f296d1708a45562d",
    "ExecuteTime": {
     "end_time": "2024-12-11T06:52:27.720247Z",
     "start_time": "2024-12-11T06:52:27.717868Z"
    }
   },
   "cell_type": "code",
   "source": [
    "import random\n",
    "def generate_prompt(row, system_prompt):\n",
    "    sample_string = ''\n",
    "    for key, value in row['samples'].items():\n",
    "        sample_string += f'{key}: {value}'\n",
    "\n",
    "    random_key = random.choice(list(row['samples'].keys()))\n",
    "\n",
    "    user_prompt = f\"\"\"\n",
    "                You are a movie recommender.\n",
    "                Given the movies/rating pairs from the user below, predict the rating of the movie {row['target'][0]}:\n",
    "                Return the Prediction in Json Format. The Json should consist of the following fields\n",
    "                MovieName : The input movie name.\n",
    "                RatingPrediction : The predicted rating. (Possible Values: 1,2,3,4,5)\n",
    "                A correct output will look like:\n",
    "                {{\"MovieName\" : \"{random_key}\",\n",
    "                \"RatingPrediction\" : \"{row['samples'][random_key]}\"}}\n",
    "                There should be no other text, analysis, or code of any kind.\n",
    "                You will be penalized for every extra token before or after the rating prediction JSON\n",
    "                <USER INPUT>\n",
    "                Input:\n",
    "                Movie Ratings: {sample_string}\n",
    "                Movie to rate: {row['target'][0]}\n",
    "                </USER INPUT>\n",
    "                \"\"\"\n",
    "    return system_prompt + '\\n' + user_prompt"
   ],
   "id": "f296d1708a45562d",
   "outputs": [],
   "execution_count": 18
  },
  {
   "cell_type": "code",
   "source": [
    "import re\n",
    "def parse_result(result):\n",
    "    match = re.search(r'\\{[\\s\\S]*\\}', result)\n",
    "    if match:\n",
    "        json_str = match.group(0)\n",
    "        try:\n",
    "            return json.loads(json_str)\n",
    "        except json.JSONDecodeError:\n",
    "            return None\n",
    "    return None"
   ],
   "metadata": {
    "id": "04-irtH6vKrW",
    "ExecuteTime": {
     "end_time": "2024-12-11T06:52:27.725470Z",
     "start_time": "2024-12-11T06:52:27.723794Z"
    }
   },
   "id": "04-irtH6vKrW",
   "outputs": [],
   "execution_count": 19
  },
  {
   "metadata": {
    "ExecuteTime": {
     "end_time": "2024-12-11T06:52:27.730164Z",
     "start_time": "2024-12-11T06:52:27.728918Z"
    }
   },
   "cell_type": "code",
   "source": [
    "# input_df = pd.read_csv(input_csv_path)\n",
    "# input_df['id'] = input_df.index.astype(str) + ('_US')+ input_df['userId'].astype(str)\n",
    "# input_df.to_csv('fin_tst_all.csv', index=False)"
   ],
   "id": "f9b81632b7ccd30b",
   "outputs": [],
   "execution_count": 20
  },
  {
   "cell_type": "code",
   "source": [
    "from itertools import islice\n",
    "import ast\n",
    "import os\n",
    "import pandas as pd\n",
    "\n",
    "output_csv_path = f\"good/llama70b_rp_10.csv\"\n",
    "bad_csv_path = f\"Bad_llama70b_rp_10.csv\"\n",
    "system_prompt = read_system_prompt(system_prompt_file)\n",
    "input_df = pd.read_csv(input_csv_path)\n",
    "completed_ids = read_completed_ids(output_csv_path)\n",
    "bad_ids = read_completed_ids(bad_csv_path)\n",
    "\n",
    "input_df['samples'] = input_df['samples'].apply(ast.literal_eval)\n",
    "input_df['target'] = input_df['target'].apply(ast.literal_eval)\n",
    "\n",
    "\n",
    "input_df = input_df[~input_df['id'].isin(completed_ids)]\n",
    "input_df = input_df[~input_df['id'].isin(bad_ids)]\n",
    "print(f\"Removed {len(completed_ids)} rows from input dataframe\")\n",
    "print(f\"Removed {len(bad_ids)} rows from input dataframe\")\n",
    "print(\"Remaining rows: \", len(input_df))\n",
    "\n",
    "i = 0\n",
    "tot = len(input_df) // 10\n",
    "print(f\"{tot}\")\n",
    "for batch in batch_iterator(input_df.iterrows(), 10):\n",
    "    i += 1\n",
    "    if i % 5 == 0:\n",
    "        print(f\"{i} : {tot}\")\n",
    "    batch_prompts = []\n",
    "    batch_metadata = []\n",
    "    results = []\n",
    "\n",
    "    for index, row in batch:\n",
    "        full_prompt = generate_prompt(row, system_prompt)\n",
    "        batch_prompts.append(full_prompt)\n",
    "        this_metadata = {'id': row['id'], 'userId': row['userId'], 'prompt': row['target'], 'samples': row['samples']}\n",
    "        batch_metadata.append(this_metadata)\n",
    "        # inputs = tokenizer(full_prompt, return_tensors=\"pt\", padding=True, truncation=True).to(device)\n",
    "        # with torch.no_grad():\n",
    "        #     outputs = model.generate(\n",
    "        #         **inputs,\n",
    "        #         max_new_tokens=max_new_tokens,\n",
    "        #         temperature=temperature,\n",
    "        #         top_p=top_p,\n",
    "        #         do_sample=True,\n",
    "        #         pad_token_id=tokenizer.pad_token_id,\n",
    "        #         stopping_criteria=StoppingCriteriaList([end_curly_brace_criteria])\n",
    "        #     )\n",
    "        # results.append(tokenizer.decode(outputs[0])[len(full_prompt):])\n",
    "        res = llama3(full_prompt) + '}'\n",
    "        # print(res)\n",
    "        results.append(res)\n",
    "\n",
    "\n",
    "    new_rows = []\n",
    "    bad_rows = []\n",
    "    for metadata, result in zip(batch_metadata, results):\n",
    "        # print(result)\n",
    "        if result is not None:\n",
    "            # print(result)\n",
    "            parsed_json = parse_result(result)\n",
    "            if parsed_json is not None:\n",
    "                metadata['json'] = parsed_json\n",
    "                new_rows.append(metadata)\n",
    "            else:\n",
    "                # print(\"couldn't parse this: \", metadata[language_in])\n",
    "                metadata['result'] = result\n",
    "                bad_rows.append(metadata)\n",
    "\n",
    "    if new_rows:\n",
    "        print(f\"Writing {len(new_rows)} rows to csv\")\n",
    "        # print(f\"New ids completed: {[row['id'] for row in new_rows]}\")\n",
    "        new_df = pd.DataFrame(new_rows)\n",
    "        if os.path.exists(output_csv_path):\n",
    "            new_df.to_csv(output_csv_path, mode='a', header=False, index=False)\n",
    "        else:\n",
    "            new_df.to_csv(output_csv_path, index=False)\n",
    "\n",
    "    if bad_rows:\n",
    "        bad_df = pd.DataFrame(bad_rows)\n",
    "        if os.path.exists(bad_csv_path):\n",
    "            bad_df.to_csv(bad_csv_path, mode='a', header=False, index=False)\n",
    "        else:\n",
    "            bad_df.to_csv(bad_csv_path, index=False)\n",
    "\n",
    "\n"
   ],
   "metadata": {
    "colab": {
     "base_uri": "https://localhost:8080/"
    },
    "id": "di1yKBbTmKS3",
    "outputId": "6d8f9789-e137-40a6-a09b-e359210c9bf7",
    "ExecuteTime": {
     "end_time": "2024-12-11T07:37:37.577359Z",
     "start_time": "2024-12-11T06:52:27.733721Z"
    }
   },
   "id": "di1yKBbTmKS3",
   "outputs": [
    {
     "name": "stdout",
     "output_type": "stream",
     "text": [
      "Removed 5930 rows from input dataframe\n",
      "Removed 0 rows from input dataframe\n",
      "Remaining rows:  170\n",
      "17\n",
      "Writing 10 rows to csv\n",
      "Writing 10 rows to csv\n",
      "Writing 10 rows to csv\n",
      "Writing 10 rows to csv\n",
      "5 : 17\n",
      "Writing 10 rows to csv\n",
      "Writing 10 rows to csv\n",
      "Writing 10 rows to csv\n",
      "Writing 10 rows to csv\n",
      "Writing 10 rows to csv\n",
      "10 : 17\n",
      "Writing 10 rows to csv\n",
      "Writing 10 rows to csv\n",
      "Writing 10 rows to csv\n",
      "Writing 10 rows to csv\n",
      "Writing 10 rows to csv\n",
      "15 : 17\n",
      "Writing 10 rows to csv\n",
      "Writing 10 rows to csv\n",
      "Writing 10 rows to csv\n"
     ]
    }
   ],
   "execution_count": 21
  }
 ],
 "metadata": {
  "kernelspec": {
   "display_name": "Python 3 (ipykernel)",
   "name": "python3",
   "language": "python"
  },
  "language_info": {
   "codemirror_mode": {
    "name": "ipython",
    "version": 2
   },
   "file_extension": ".py",
   "mimetype": "text/x-python",
   "name": "python",
   "nbconvert_exporter": "python",
   "pygments_lexer": "ipython2",
   "version": "2.7.6"
  },
  "colab": {
   "provenance": [],
   "gpuType": "A100"
  },
  "accelerator": "GPU",
  "widgets": {
   "application/vnd.jupyter.widget-state+json": {
    "1ae5307e810d4326a7abd785a3df28cd": {
     "model_module": "@jupyter-widgets/controls",
     "model_name": "HBoxModel",
     "model_module_version": "1.5.0",
     "state": {
      "_dom_classes": [],
      "_model_module": "@jupyter-widgets/controls",
      "_model_module_version": "1.5.0",
      "_model_name": "HBoxModel",
      "_view_count": null,
      "_view_module": "@jupyter-widgets/controls",
      "_view_module_version": "1.5.0",
      "_view_name": "HBoxView",
      "box_style": "",
      "children": [
       "IPY_MODEL_d5c986c950264ce19afbaf21acddca49",
       "IPY_MODEL_ff9e98af1be44be8a43607f1e5dd9928",
       "IPY_MODEL_113b2a825e0b4ae1a30699aab5bc1116"
      ],
      "layout": "IPY_MODEL_708abd5af31b4f6a9573c09c5c2ad23d"
     }
    },
    "d5c986c950264ce19afbaf21acddca49": {
     "model_module": "@jupyter-widgets/controls",
     "model_name": "HTMLModel",
     "model_module_version": "1.5.0",
     "state": {
      "_dom_classes": [],
      "_model_module": "@jupyter-widgets/controls",
      "_model_module_version": "1.5.0",
      "_model_name": "HTMLModel",
      "_view_count": null,
      "_view_module": "@jupyter-widgets/controls",
      "_view_module_version": "1.5.0",
      "_view_name": "HTMLView",
      "description": "",
      "description_tooltip": null,
      "layout": "IPY_MODEL_22bed13ce7344d63be0f21c2ea09f450",
      "placeholder": "​",
      "style": "IPY_MODEL_58b29f9831e24153b96661c3397b97c8",
      "value": "Loading checkpoint shards: 100%"
     }
    },
    "ff9e98af1be44be8a43607f1e5dd9928": {
     "model_module": "@jupyter-widgets/controls",
     "model_name": "FloatProgressModel",
     "model_module_version": "1.5.0",
     "state": {
      "_dom_classes": [],
      "_model_module": "@jupyter-widgets/controls",
      "_model_module_version": "1.5.0",
      "_model_name": "FloatProgressModel",
      "_view_count": null,
      "_view_module": "@jupyter-widgets/controls",
      "_view_module_version": "1.5.0",
      "_view_name": "ProgressView",
      "bar_style": "success",
      "description": "",
      "description_tooltip": null,
      "layout": "IPY_MODEL_105222d24e884d648f77ccec1f8ae1a0",
      "max": 2,
      "min": 0,
      "orientation": "horizontal",
      "style": "IPY_MODEL_c5e1fb441f34463192c8340a390a3757",
      "value": 2
     }
    },
    "113b2a825e0b4ae1a30699aab5bc1116": {
     "model_module": "@jupyter-widgets/controls",
     "model_name": "HTMLModel",
     "model_module_version": "1.5.0",
     "state": {
      "_dom_classes": [],
      "_model_module": "@jupyter-widgets/controls",
      "_model_module_version": "1.5.0",
      "_model_name": "HTMLModel",
      "_view_count": null,
      "_view_module": "@jupyter-widgets/controls",
      "_view_module_version": "1.5.0",
      "_view_name": "HTMLView",
      "description": "",
      "description_tooltip": null,
      "layout": "IPY_MODEL_932a86d88bdb4bb09b09cdd3e15d3c54",
      "placeholder": "​",
      "style": "IPY_MODEL_fcc356927dee4013a4cc4a5d3f7d69ae",
      "value": " 2/2 [00:00&lt;00:00,  2.02it/s]"
     }
    },
    "708abd5af31b4f6a9573c09c5c2ad23d": {
     "model_module": "@jupyter-widgets/base",
     "model_name": "LayoutModel",
     "model_module_version": "1.2.0",
     "state": {
      "_model_module": "@jupyter-widgets/base",
      "_model_module_version": "1.2.0",
      "_model_name": "LayoutModel",
      "_view_count": null,
      "_view_module": "@jupyter-widgets/base",
      "_view_module_version": "1.2.0",
      "_view_name": "LayoutView",
      "align_content": null,
      "align_items": null,
      "align_self": null,
      "border": null,
      "bottom": null,
      "display": null,
      "flex": null,
      "flex_flow": null,
      "grid_area": null,
      "grid_auto_columns": null,
      "grid_auto_flow": null,
      "grid_auto_rows": null,
      "grid_column": null,
      "grid_gap": null,
      "grid_row": null,
      "grid_template_areas": null,
      "grid_template_columns": null,
      "grid_template_rows": null,
      "height": null,
      "justify_content": null,
      "justify_items": null,
      "left": null,
      "margin": null,
      "max_height": null,
      "max_width": null,
      "min_height": null,
      "min_width": null,
      "object_fit": null,
      "object_position": null,
      "order": null,
      "overflow": null,
      "overflow_x": null,
      "overflow_y": null,
      "padding": null,
      "right": null,
      "top": null,
      "visibility": null,
      "width": null
     }
    },
    "22bed13ce7344d63be0f21c2ea09f450": {
     "model_module": "@jupyter-widgets/base",
     "model_name": "LayoutModel",
     "model_module_version": "1.2.0",
     "state": {
      "_model_module": "@jupyter-widgets/base",
      "_model_module_version": "1.2.0",
      "_model_name": "LayoutModel",
      "_view_count": null,
      "_view_module": "@jupyter-widgets/base",
      "_view_module_version": "1.2.0",
      "_view_name": "LayoutView",
      "align_content": null,
      "align_items": null,
      "align_self": null,
      "border": null,
      "bottom": null,
      "display": null,
      "flex": null,
      "flex_flow": null,
      "grid_area": null,
      "grid_auto_columns": null,
      "grid_auto_flow": null,
      "grid_auto_rows": null,
      "grid_column": null,
      "grid_gap": null,
      "grid_row": null,
      "grid_template_areas": null,
      "grid_template_columns": null,
      "grid_template_rows": null,
      "height": null,
      "justify_content": null,
      "justify_items": null,
      "left": null,
      "margin": null,
      "max_height": null,
      "max_width": null,
      "min_height": null,
      "min_width": null,
      "object_fit": null,
      "object_position": null,
      "order": null,
      "overflow": null,
      "overflow_x": null,
      "overflow_y": null,
      "padding": null,
      "right": null,
      "top": null,
      "visibility": null,
      "width": null
     }
    },
    "58b29f9831e24153b96661c3397b97c8": {
     "model_module": "@jupyter-widgets/controls",
     "model_name": "DescriptionStyleModel",
     "model_module_version": "1.5.0",
     "state": {
      "_model_module": "@jupyter-widgets/controls",
      "_model_module_version": "1.5.0",
      "_model_name": "DescriptionStyleModel",
      "_view_count": null,
      "_view_module": "@jupyter-widgets/base",
      "_view_module_version": "1.2.0",
      "_view_name": "StyleView",
      "description_width": ""
     }
    },
    "105222d24e884d648f77ccec1f8ae1a0": {
     "model_module": "@jupyter-widgets/base",
     "model_name": "LayoutModel",
     "model_module_version": "1.2.0",
     "state": {
      "_model_module": "@jupyter-widgets/base",
      "_model_module_version": "1.2.0",
      "_model_name": "LayoutModel",
      "_view_count": null,
      "_view_module": "@jupyter-widgets/base",
      "_view_module_version": "1.2.0",
      "_view_name": "LayoutView",
      "align_content": null,
      "align_items": null,
      "align_self": null,
      "border": null,
      "bottom": null,
      "display": null,
      "flex": null,
      "flex_flow": null,
      "grid_area": null,
      "grid_auto_columns": null,
      "grid_auto_flow": null,
      "grid_auto_rows": null,
      "grid_column": null,
      "grid_gap": null,
      "grid_row": null,
      "grid_template_areas": null,
      "grid_template_columns": null,
      "grid_template_rows": null,
      "height": null,
      "justify_content": null,
      "justify_items": null,
      "left": null,
      "margin": null,
      "max_height": null,
      "max_width": null,
      "min_height": null,
      "min_width": null,
      "object_fit": null,
      "object_position": null,
      "order": null,
      "overflow": null,
      "overflow_x": null,
      "overflow_y": null,
      "padding": null,
      "right": null,
      "top": null,
      "visibility": null,
      "width": null
     }
    },
    "c5e1fb441f34463192c8340a390a3757": {
     "model_module": "@jupyter-widgets/controls",
     "model_name": "ProgressStyleModel",
     "model_module_version": "1.5.0",
     "state": {
      "_model_module": "@jupyter-widgets/controls",
      "_model_module_version": "1.5.0",
      "_model_name": "ProgressStyleModel",
      "_view_count": null,
      "_view_module": "@jupyter-widgets/base",
      "_view_module_version": "1.2.0",
      "_view_name": "StyleView",
      "bar_color": null,
      "description_width": ""
     }
    },
    "932a86d88bdb4bb09b09cdd3e15d3c54": {
     "model_module": "@jupyter-widgets/base",
     "model_name": "LayoutModel",
     "model_module_version": "1.2.0",
     "state": {
      "_model_module": "@jupyter-widgets/base",
      "_model_module_version": "1.2.0",
      "_model_name": "LayoutModel",
      "_view_count": null,
      "_view_module": "@jupyter-widgets/base",
      "_view_module_version": "1.2.0",
      "_view_name": "LayoutView",
      "align_content": null,
      "align_items": null,
      "align_self": null,
      "border": null,
      "bottom": null,
      "display": null,
      "flex": null,
      "flex_flow": null,
      "grid_area": null,
      "grid_auto_columns": null,
      "grid_auto_flow": null,
      "grid_auto_rows": null,
      "grid_column": null,
      "grid_gap": null,
      "grid_row": null,
      "grid_template_areas": null,
      "grid_template_columns": null,
      "grid_template_rows": null,
      "height": null,
      "justify_content": null,
      "justify_items": null,
      "left": null,
      "margin": null,
      "max_height": null,
      "max_width": null,
      "min_height": null,
      "min_width": null,
      "object_fit": null,
      "object_position": null,
      "order": null,
      "overflow": null,
      "overflow_x": null,
      "overflow_y": null,
      "padding": null,
      "right": null,
      "top": null,
      "visibility": null,
      "width": null
     }
    },
    "fcc356927dee4013a4cc4a5d3f7d69ae": {
     "model_module": "@jupyter-widgets/controls",
     "model_name": "DescriptionStyleModel",
     "model_module_version": "1.5.0",
     "state": {
      "_model_module": "@jupyter-widgets/controls",
      "_model_module_version": "1.5.0",
      "_model_name": "DescriptionStyleModel",
      "_view_count": null,
      "_view_module": "@jupyter-widgets/base",
      "_view_module_version": "1.2.0",
      "_view_name": "StyleView",
      "description_width": ""
     }
    }
   }
  }
 },
 "nbformat": 4,
 "nbformat_minor": 5
}
