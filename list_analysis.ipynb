{
 "cells": [
  {
   "cell_type": "code",
   "id": "initial_id",
   "metadata": {
    "collapsed": true,
    "ExecuteTime": {
     "end_time": "2024-12-11T17:26:14.636794Z",
     "start_time": "2024-12-11T17:26:14.634312Z"
    }
   },
   "source": [
    "import pandas as pd\n",
    "import ast\n",
    "import os\n",
    "import glob"
   ],
   "outputs": [],
   "execution_count": 203
  },
  {
   "metadata": {
    "ExecuteTime": {
     "end_time": "2024-12-11T17:26:14.655497Z",
     "start_time": "2024-12-11T17:26:14.650304Z"
    }
   },
   "cell_type": "code",
   "source": [
    "import numpy as np\n",
    "from scipy.stats import spearmanr\n",
    "import scipy.stats as stats\n",
    "\n",
    "def get_ranked_indices(lst, reference_list):\n",
    "    return [reference_list.index(item) for item in lst]\n",
    "\n",
    "def kendall_tau(pred, true):\n",
    "    tau, p_value = stats.kendalltau(pred, true)\n",
    "    return tau\n",
    "\n",
    "def spearman_rank_correlation(pred, true):\n",
    "    pred_indices = get_ranked_indices(pred, true)\n",
    "    true_indices = get_ranked_indices(true, true)\n",
    "    correlation, _ = spearmanr(pred_indices, true_indices)\n",
    "    return correlation\n",
    "\n",
    "def ndcg(pred, true):\n",
    "    dcg = 0\n",
    "    arr_len = len(pred)-1\n",
    "    for i, item in enumerate(pred):\n",
    "        if item in true:\n",
    "            if i == 0:\n",
    "                rank = true.index(item)\n",
    "                dcg += (arr_len - rank)\n",
    "            else:\n",
    "                rank = true.index(item)\n",
    "                dcg += ((arr_len-rank)) / np.log2(i + 1)\n",
    "    idcg = 0\n",
    "    for i, item in enumerate(true):\n",
    "        if i == 0:\n",
    "            idcg += (arr_len-i)\n",
    "        else:\n",
    "            idcg += ((arr_len-i))/ np.log2(i + 1)\n",
    "    return dcg / idcg if idcg != 0 else 0\n",
    "\n",
    "def rbo(lista, listb):\n",
    "    set_a = set([])\n",
    "    set_b = set([])\n",
    "    overlaps = []\n",
    "    for i in range(len(lista)):\n",
    "        set_a.add(lista[i])\n",
    "        set_b.add(listb[i])\n",
    "        intersection = set_a.intersection(set_b)\n",
    "        union = set_a.union(set_b)\n",
    "        jaccard = len(intersection) / len(union)\n",
    "        overlaps.append(jaccard)\n",
    "\n",
    "    return np.mean(overlaps)"
   ],
   "id": "39e83d37eb09f231",
   "outputs": [],
   "execution_count": 204
  },
  {
   "metadata": {
    "ExecuteTime": {
     "end_time": "2024-12-11T17:26:14.670445Z",
     "start_time": "2024-12-11T17:26:14.667387Z"
    }
   },
   "cell_type": "code",
   "source": [
    "def group_and_sort(merged):\n",
    "    agg_df = merged.groupby('userId').apply(\n",
    "    lambda x: dict(zip(x['title'], x['predicted_rating'])), include_groups=False\n",
    "    ).reset_index(name='pred_dict')\n",
    "\n",
    "    true_df = merged.groupby('userId').apply(\n",
    "        lambda x: dict(zip(x['title'], x['rating'])), include_groups=False\n",
    "    ).reset_index(name='true_dict')\n",
    "\n",
    "    merged_df = agg_df.merge(true_df, on=['userId'], how='inner')\n",
    "\n",
    "    merged_df['pred_list'] = merged_df['pred_dict'].apply(lambda x: sorted(x, key=x.get, reverse=True))\n",
    "    merged_df['true_list'] = merged_df['true_dict'].apply(lambda x: sorted(x, key=x.get, reverse=True))\n",
    "    return merged_df"
   ],
   "id": "16b5c4f62eedbefe",
   "outputs": [],
   "execution_count": 205
  },
  {
   "metadata": {
    "ExecuteTime": {
     "end_time": "2024-12-11T17:26:14.709890Z",
     "start_time": "2024-12-11T17:26:14.689467Z"
    }
   },
   "cell_type": "code",
   "source": "df = pd.read_csv('orig_data/all_ratings.csv')",
   "id": "600cf91bd106df31",
   "outputs": [],
   "execution_count": 206
  },
  {
   "metadata": {
    "ExecuteTime": {
     "end_time": "2024-12-11T17:26:16.710632Z",
     "start_time": "2024-12-11T17:26:14.713267Z"
    }
   },
   "cell_type": "code",
   "source": [
    "csv_files = [f for f in glob.glob(os.path.join('llm_output_processed', \"*.csv\"))] + ['user_based/trad_user_ratings.csv']\n",
    "csv_files.sort()\n",
    "spearmans = []\n",
    "ndcgs = []\n",
    "rbos = []\n",
    "\n",
    "for file in csv_files:\n",
    "    df1 = pd.read_csv(file).dropna()\n",
    "    df1.drop_duplicates(subset=['userId', 'title'], keep='first', inplace=True)\n",
    "    merged = df.merge(df1, on=['userId', 'title'], how='inner')\n",
    "\n",
    "    merged_df = group_and_sort(merged)\n",
    "    merged_df['pred'] = merged_df.apply(lambda row: get_ranked_indices(row['pred_list'], row['true_list']), axis=1)\n",
    "    merged_df['spearman'] = merged_df.apply(lambda x: spearman_rank_correlation(x.pred_list, x.true_list), axis=1)\n",
    "    merged_df['ndcg'] = merged_df.apply(lambda x: ndcg(x.pred_list, x.true_list), axis=1)\n",
    "    merged_df['kendall'] = merged_df.apply(lambda x: kendall_tau(x.pred_list, x.true_list), axis=1)\n",
    "    merged_df['rbo'] = merged_df.apply(lambda x: rbo(x.pred_list, x.true_list), axis=1)\n",
    "\n",
    "    acc_df = merged_df.drop(columns=['pred_list', 'true_list', 'pred_dict', 'true_dict', 'pred'])\n",
    "    x = acc_df.mean(axis=0)\n",
    "    spearmans.append(x['spearman'])\n",
    "    ndcgs.append(x['ndcg'])\n",
    "    rbos.append(x['rbo'])\n",
    "\n",
    "    print(f\"Results for {file}:\")\n",
    "    print(f\"  Spearman: {x['spearman']:.4f}\")\n",
    "    print(f\"  ndcgs: {x['ndcg']:.4f}\")\n",
    "    print(f\"  Kendall: {x['kendall']:.4f}\")\n",
    "    print(f\"  RBO: {x['rbo']:.4f}\")\n",
    "    print(\"-\" * 40)\n",
    "    merged_df.drop(columns=['pred_list', 'true_list', 'pred_dict', 'true_dict']).to_csv(f'metric_outputs/{os.path.basename(file)}_met.csv')"
   ],
   "id": "23226d67f9412108",
   "outputs": [
    {
     "name": "stdout",
     "output_type": "stream",
     "text": [
      "Results for llm_output_processed/llama70b_rp.csv:\n",
      "  Spearman: 0.2412\n",
      "  ndcgs: 0.8405\n",
      "  Kendall: 0.0213\n",
      "  RBO: 0.5303\n",
      "----------------------------------------\n",
      "Results for llm_output_processed/llama70b_rp_10.csv:\n",
      "  Spearman: 0.2714\n",
      "  ndcgs: 0.8447\n",
      "  Kendall: 0.0540\n",
      "  RBO: 0.5425\n",
      "----------------------------------------\n",
      "Results for llm_output_processed/llama70b_rp_all.csv:\n",
      "  Spearman: 0.4194\n",
      "  ndcgs: 0.8775\n",
      "  Kendall: 0.0981\n",
      "  RBO: 0.5951\n",
      "----------------------------------------\n",
      "Results for llm_output_processed/qwen_rp.csv:\n",
      "  Spearman: 0.2532\n",
      "  ndcgs: 0.8432\n",
      "  Kendall: 0.0364\n",
      "  RBO: 0.5391\n",
      "----------------------------------------\n",
      "Results for llm_output_processed/qwen_rp_10.csv:\n",
      "  Spearman: 0.2626\n",
      "  ndcgs: 0.8427\n",
      "  Kendall: 0.0501\n",
      "  RBO: 0.5460\n",
      "----------------------------------------\n",
      "Results for llm_output_processed/qwen_rp_all.csv:\n",
      "  Spearman: 0.3595\n",
      "  ndcgs: 0.8594\n",
      "  Kendall: 0.0618\n",
      "  RBO: 0.5908\n",
      "----------------------------------------\n",
      "Results for user_based/trad_user_ratings.csv:\n",
      "  Spearman: 0.3467\n",
      "  ndcgs: 0.8605\n",
      "  Kendall: 0.0738\n",
      "  RBO: 0.5613\n",
      "----------------------------------------\n"
     ]
    }
   ],
   "execution_count": 207
  },
  {
   "metadata": {},
   "cell_type": "markdown",
   "source": "Checking the metrics",
   "id": "45ff62cfe4c6a4cd"
  },
  {
   "metadata": {},
   "cell_type": "markdown",
   "source": "testing",
   "id": "f161a42678c818d3"
  },
  {
   "metadata": {
    "ExecuteTime": {
     "end_time": "2024-12-11T17:26:16.724876Z",
     "start_time": "2024-12-11T17:26:16.721658Z"
    }
   },
   "cell_type": "code",
   "source": "df1.head()",
   "id": "433f9f73ddf85676",
   "outputs": [
    {
     "data": {
      "text/plain": [
       "   userId                 title  predicted_rating\n",
       "0       1            JFK (1991)          3.534418\n",
       "1       1      Game, The (1997)          3.652169\n",
       "2       1     Mummy, The (1999)          3.139189\n",
       "3       1           Tron (1982)          3.326267\n",
       "4       1  Pete's Dragon (1977)          2.774591"
      ],
      "text/html": [
       "<div>\n",
       "<style scoped>\n",
       "    .dataframe tbody tr th:only-of-type {\n",
       "        vertical-align: middle;\n",
       "    }\n",
       "\n",
       "    .dataframe tbody tr th {\n",
       "        vertical-align: top;\n",
       "    }\n",
       "\n",
       "    .dataframe thead th {\n",
       "        text-align: right;\n",
       "    }\n",
       "</style>\n",
       "<table border=\"1\" class=\"dataframe\">\n",
       "  <thead>\n",
       "    <tr style=\"text-align: right;\">\n",
       "      <th></th>\n",
       "      <th>userId</th>\n",
       "      <th>title</th>\n",
       "      <th>predicted_rating</th>\n",
       "    </tr>\n",
       "  </thead>\n",
       "  <tbody>\n",
       "    <tr>\n",
       "      <th>0</th>\n",
       "      <td>1</td>\n",
       "      <td>JFK (1991)</td>\n",
       "      <td>3.534418</td>\n",
       "    </tr>\n",
       "    <tr>\n",
       "      <th>1</th>\n",
       "      <td>1</td>\n",
       "      <td>Game, The (1997)</td>\n",
       "      <td>3.652169</td>\n",
       "    </tr>\n",
       "    <tr>\n",
       "      <th>2</th>\n",
       "      <td>1</td>\n",
       "      <td>Mummy, The (1999)</td>\n",
       "      <td>3.139189</td>\n",
       "    </tr>\n",
       "    <tr>\n",
       "      <th>3</th>\n",
       "      <td>1</td>\n",
       "      <td>Tron (1982)</td>\n",
       "      <td>3.326267</td>\n",
       "    </tr>\n",
       "    <tr>\n",
       "      <th>4</th>\n",
       "      <td>1</td>\n",
       "      <td>Pete's Dragon (1977)</td>\n",
       "      <td>2.774591</td>\n",
       "    </tr>\n",
       "  </tbody>\n",
       "</table>\n",
       "</div>"
      ]
     },
     "execution_count": 208,
     "metadata": {},
     "output_type": "execute_result"
    }
   ],
   "execution_count": 208
  },
  {
   "metadata": {
    "ExecuteTime": {
     "end_time": "2024-12-11T17:26:16.753941Z",
     "start_time": "2024-12-11T17:26:16.750060Z"
    }
   },
   "cell_type": "code",
   "source": "df",
   "id": "2df0ff447ef09c31",
   "outputs": [
    {
     "data": {
      "text/plain": [
       "        userId  rating                           title\n",
       "0            1     4.0                Toy Story (1995)\n",
       "1            1     4.0         Grumpier Old Men (1995)\n",
       "2            1     4.0                     Heat (1995)\n",
       "3            1     5.0     Seven (a.k.a. Se7en) (1995)\n",
       "4            1     5.0      Usual Suspects, The (1995)\n",
       "...        ...     ...                             ...\n",
       "100831     610     4.0                    Split (2017)\n",
       "100832     610     5.0   John Wick: Chapter Two (2017)\n",
       "100833     610     5.0                  Get Out (2017)\n",
       "100834     610     5.0                    Logan (2017)\n",
       "100835     610     3.0  The Fate of the Furious (2017)\n",
       "\n",
       "[100836 rows x 3 columns]"
      ],
      "text/html": [
       "<div>\n",
       "<style scoped>\n",
       "    .dataframe tbody tr th:only-of-type {\n",
       "        vertical-align: middle;\n",
       "    }\n",
       "\n",
       "    .dataframe tbody tr th {\n",
       "        vertical-align: top;\n",
       "    }\n",
       "\n",
       "    .dataframe thead th {\n",
       "        text-align: right;\n",
       "    }\n",
       "</style>\n",
       "<table border=\"1\" class=\"dataframe\">\n",
       "  <thead>\n",
       "    <tr style=\"text-align: right;\">\n",
       "      <th></th>\n",
       "      <th>userId</th>\n",
       "      <th>rating</th>\n",
       "      <th>title</th>\n",
       "    </tr>\n",
       "  </thead>\n",
       "  <tbody>\n",
       "    <tr>\n",
       "      <th>0</th>\n",
       "      <td>1</td>\n",
       "      <td>4.0</td>\n",
       "      <td>Toy Story (1995)</td>\n",
       "    </tr>\n",
       "    <tr>\n",
       "      <th>1</th>\n",
       "      <td>1</td>\n",
       "      <td>4.0</td>\n",
       "      <td>Grumpier Old Men (1995)</td>\n",
       "    </tr>\n",
       "    <tr>\n",
       "      <th>2</th>\n",
       "      <td>1</td>\n",
       "      <td>4.0</td>\n",
       "      <td>Heat (1995)</td>\n",
       "    </tr>\n",
       "    <tr>\n",
       "      <th>3</th>\n",
       "      <td>1</td>\n",
       "      <td>5.0</td>\n",
       "      <td>Seven (a.k.a. Se7en) (1995)</td>\n",
       "    </tr>\n",
       "    <tr>\n",
       "      <th>4</th>\n",
       "      <td>1</td>\n",
       "      <td>5.0</td>\n",
       "      <td>Usual Suspects, The (1995)</td>\n",
       "    </tr>\n",
       "    <tr>\n",
       "      <th>...</th>\n",
       "      <td>...</td>\n",
       "      <td>...</td>\n",
       "      <td>...</td>\n",
       "    </tr>\n",
       "    <tr>\n",
       "      <th>100831</th>\n",
       "      <td>610</td>\n",
       "      <td>4.0</td>\n",
       "      <td>Split (2017)</td>\n",
       "    </tr>\n",
       "    <tr>\n",
       "      <th>100832</th>\n",
       "      <td>610</td>\n",
       "      <td>5.0</td>\n",
       "      <td>John Wick: Chapter Two (2017)</td>\n",
       "    </tr>\n",
       "    <tr>\n",
       "      <th>100833</th>\n",
       "      <td>610</td>\n",
       "      <td>5.0</td>\n",
       "      <td>Get Out (2017)</td>\n",
       "    </tr>\n",
       "    <tr>\n",
       "      <th>100834</th>\n",
       "      <td>610</td>\n",
       "      <td>5.0</td>\n",
       "      <td>Logan (2017)</td>\n",
       "    </tr>\n",
       "    <tr>\n",
       "      <th>100835</th>\n",
       "      <td>610</td>\n",
       "      <td>3.0</td>\n",
       "      <td>The Fate of the Furious (2017)</td>\n",
       "    </tr>\n",
       "  </tbody>\n",
       "</table>\n",
       "<p>100836 rows × 3 columns</p>\n",
       "</div>"
      ]
     },
     "execution_count": 209,
     "metadata": {},
     "output_type": "execute_result"
    }
   ],
   "execution_count": 209
  },
  {
   "metadata": {
    "ExecuteTime": {
     "end_time": "2024-12-11T17:26:16.795424Z",
     "start_time": "2024-12-11T17:26:16.791103Z"
    }
   },
   "cell_type": "code",
   "source": [
    "df2 = df.copy()\n",
    "df2.rename(columns={'rating':'predicted_rating'}, inplace=True)\n",
    "df2.head()"
   ],
   "id": "6b735a215025cded",
   "outputs": [
    {
     "data": {
      "text/plain": [
       "   userId  predicted_rating                        title\n",
       "0       1               4.0             Toy Story (1995)\n",
       "1       1               4.0      Grumpier Old Men (1995)\n",
       "2       1               4.0                  Heat (1995)\n",
       "3       1               5.0  Seven (a.k.a. Se7en) (1995)\n",
       "4       1               5.0   Usual Suspects, The (1995)"
      ],
      "text/html": [
       "<div>\n",
       "<style scoped>\n",
       "    .dataframe tbody tr th:only-of-type {\n",
       "        vertical-align: middle;\n",
       "    }\n",
       "\n",
       "    .dataframe tbody tr th {\n",
       "        vertical-align: top;\n",
       "    }\n",
       "\n",
       "    .dataframe thead th {\n",
       "        text-align: right;\n",
       "    }\n",
       "</style>\n",
       "<table border=\"1\" class=\"dataframe\">\n",
       "  <thead>\n",
       "    <tr style=\"text-align: right;\">\n",
       "      <th></th>\n",
       "      <th>userId</th>\n",
       "      <th>predicted_rating</th>\n",
       "      <th>title</th>\n",
       "    </tr>\n",
       "  </thead>\n",
       "  <tbody>\n",
       "    <tr>\n",
       "      <th>0</th>\n",
       "      <td>1</td>\n",
       "      <td>4.0</td>\n",
       "      <td>Toy Story (1995)</td>\n",
       "    </tr>\n",
       "    <tr>\n",
       "      <th>1</th>\n",
       "      <td>1</td>\n",
       "      <td>4.0</td>\n",
       "      <td>Grumpier Old Men (1995)</td>\n",
       "    </tr>\n",
       "    <tr>\n",
       "      <th>2</th>\n",
       "      <td>1</td>\n",
       "      <td>4.0</td>\n",
       "      <td>Heat (1995)</td>\n",
       "    </tr>\n",
       "    <tr>\n",
       "      <th>3</th>\n",
       "      <td>1</td>\n",
       "      <td>5.0</td>\n",
       "      <td>Seven (a.k.a. Se7en) (1995)</td>\n",
       "    </tr>\n",
       "    <tr>\n",
       "      <th>4</th>\n",
       "      <td>1</td>\n",
       "      <td>5.0</td>\n",
       "      <td>Usual Suspects, The (1995)</td>\n",
       "    </tr>\n",
       "  </tbody>\n",
       "</table>\n",
       "</div>"
      ]
     },
     "execution_count": 210,
     "metadata": {},
     "output_type": "execute_result"
    }
   ],
   "execution_count": 210
  },
  {
   "metadata": {
    "ExecuteTime": {
     "end_time": "2024-12-11T17:26:16.916078Z",
     "start_time": "2024-12-11T17:26:16.840504Z"
    }
   },
   "cell_type": "code",
   "source": [
    "merged = df.merge(df2, on=['userId', 'title'], how='inner')\n",
    "merged_df = group_and_sort(merged)"
   ],
   "id": "76d3ebd72e7f18",
   "outputs": [],
   "execution_count": 211
  },
  {
   "metadata": {
    "ExecuteTime": {
     "end_time": "2024-12-11T17:26:16.950619Z",
     "start_time": "2024-12-11T17:26:16.932439Z"
    }
   },
   "cell_type": "code",
   "source": [
    "import random\n",
    "\n",
    "merged_df['pred_list'] = merged_df['pred_list'].apply(lambda x: random.shuffle(x) or x)"
   ],
   "id": "99d86f7a72187a0d",
   "outputs": [],
   "execution_count": 212
  },
  {
   "metadata": {
    "ExecuteTime": {
     "end_time": "2024-12-11T17:26:18.983245Z",
     "start_time": "2024-12-11T17:26:16.954055Z"
    }
   },
   "cell_type": "code",
   "source": [
    "merged_df['pred'] = merged_df.apply(lambda row: get_ranked_indices(row['pred_list'], row['true_list']), axis=1)\n",
    "merged_df['spearman'] = merged_df.apply(lambda x: spearman_rank_correlation(x.pred_list, x.true_list), axis=1)\n",
    "merged_df['ndcg'] = merged_df.apply(lambda x: ndcg(x.pred_list, x.true_list), axis=1)\n",
    "merged_df['kendall'] = merged_df.apply(lambda x: kendall_tau(x.pred_list, x.true_list), axis=1)\n",
    "merged_df['rbo'] = merged_df.apply(lambda x: rbo(x.pred_list, x.true_list), axis=1)\n",
    "\n",
    "acc_df = merged_df.drop(columns=['pred_list', 'true_list', 'pred_dict', 'true_dict', 'pred'])\n",
    "x = acc_df.mean(axis=0)\n",
    "spearmans.append(x['spearman'])\n",
    "ndcgs.append(x['ndcg'])\n",
    "rbos.append(x['rbo'])\n",
    "\n",
    "print(f\"Results for {file}:\")\n",
    "print(f\"  Spearman: {x['spearman']:.4f}\")\n",
    "print(f\"  ndcgs: {x['ndcg']:.4f}\")\n",
    "print(f\"  Kendall: {x['kendall']:.4f}\")\n",
    "print(f\"  RBO: {x['rbo']:.4f}\")\n",
    "print(\"-\" * 40)\n",
    "merged_df.drop(columns=['pred_list', 'true_list', 'pred_dict', 'true_dict']).to_csv(f'metric_outputs/{os.path.basename(file)}_met.csv')"
   ],
   "id": "e79cb2631ef8c90a",
   "outputs": [
    {
     "name": "stdout",
     "output_type": "stream",
     "text": [
      "Results for user_based/trad_user_ratings.csv:\n",
      "  Spearman: -0.0007\n",
      "  ndcgs: 0.8224\n",
      "  Kendall: 0.0012\n",
      "  RBO: 0.3971\n",
      "----------------------------------------\n"
     ]
    }
   ],
   "execution_count": 213
  },
  {
   "metadata": {},
   "cell_type": "markdown",
   "source": "n-shot all aligned\n",
   "id": "f80c18a2341d4110"
  },
  {
   "metadata": {
    "ExecuteTime": {
     "end_time": "2024-12-11T18:18:42.181490Z",
     "start_time": "2024-12-11T18:18:41.921977Z"
    }
   },
   "cell_type": "code",
   "source": [
    "import matplotlib.pyplot as plt\n",
    "\n",
    "models = [x.split('/')[1].split('.')[0] for x in csv_files]\n",
    "models.append('Random')\n",
    "\n",
    "data = {\n",
    "    'models': models,\n",
    "    'spearmans': spearmans,\n",
    "    'ndcgs': ndcgs,\n",
    "    'rbos': rbos\n",
    "}\n",
    "\n",
    "# Create a DataFrame from the dictionary\n",
    "df = pd.DataFrame(data)\n",
    "df['models'] = df['models'].apply(lambda x: x.replace('_rp', '').strip())\n",
    "df.rename(columns={'spearmans': 'Spearman', 'ndcgs': 'NDCG', 'rbos': 'RBO'}, inplace=True)\n",
    "df.set_index('models', inplace=True)\n",
    "# Set 'run_name' as the index\n",
    "\n",
    "# Plot settings\n",
    "metrics = ['Spearman', 'NDCG', 'RBO']\n",
    "colors = ['#1f77b4', '#ff7f0e', '#2ca02c', '#d62728']  # Colors for the base and llama8\n",
    "\n",
    "# Create a plot for each metric\n",
    "fig, axs = plt.subplots(3, figsize=(10, 7))\n",
    "\n",
    "for i, metric in enumerate(metrics):\n",
    "    ax = axs[i]\n",
    "    base_values = df.loc[['llama70b', 'llama70b_10', 'llama70b_all'], metric].values\n",
    "    llama8_values = df.loc[['qwen', 'qwen_10', 'qwen_all'], metric].values\n",
    "\n",
    "    # Bar positions\n",
    "    bar_width = 0.35\n",
    "    base_positions = [0, 1, 2]\n",
    "    llama8_positions = [pos + bar_width for pos in base_positions]\n",
    "    # llama8_positions = [1, 3]\n",
    "\n",
    "    # Plot bars\n",
    "    all_bars = []\n",
    "    all_bars.append(ax.bar(base_positions, base_values, color=colors[0], width=bar_width, label='Llama3.1 70B'))\n",
    "    all_bars.append(ax.bar(llama8_positions, llama8_values, color=colors[1], width=bar_width, label='Qwen2.5 32B'))\n",
    "    for bars in all_bars:\n",
    "        for bar in bars:\n",
    "            height = bar.get_height()\n",
    "            ax.text(bar.get_x() + bar.get_width() / 2, height, f'{height:.2f}', ha='center', va='bottom')\n",
    "\n",
    "    # Set x-ticks and labels\n",
    "    ax.set_xticks([pos+(bar_width/2) for pos in base_positions])\n",
    "    ax.set_xticklabels(['5shot', '10shot', 'all'])\n",
    "\n",
    "    # Set title and labels\n",
    "    ax.set_title(f'{metric} Comparison')\n",
    "    ax.set_ylabel('Score')\n",
    "    if i == 0:\n",
    "        ax.legend(loc='upper left')\n",
    "    # ax.legend()\n",
    "\n",
    "# Adjust layout\n",
    "plt.tight_layout()\n",
    "plt.savefig('QwenVsLlama.png')\n",
    "plt.show()"
   ],
   "id": "686b8f238892803e",
   "outputs": [
    {
     "data": {
      "text/plain": [
       "<Figure size 1000x700 with 3 Axes>"
      ],
      "image/png": "[encoded data removed]"
     },
     "metadata": {},
     "output_type": "display_data"
    }
   ],
   "execution_count": 235
  },
  {
   "metadata": {},
   "cell_type": "markdown",
   "source": "All grouped",
   "id": "9fd696a3f221b3cc"
  },
  {
   "metadata": {
    "ExecuteTime": {
     "end_time": "2024-12-11T17:26:19.236759Z",
     "start_time": "2024-12-11T17:26:19.232997Z"
    }
   },
   "cell_type": "code",
   "source": "df",
   "id": "edb1f23c9a26d08",
   "outputs": [
    {
     "data": {
      "text/plain": [
       "                   Spearman      NDCG       RBO\n",
       "models                                         \n",
       "llama70b           0.241217  0.840547  0.530276\n",
       "llama70b_10        0.271352  0.844695  0.542488\n",
       "llama70b_all       0.419372  0.877469  0.595141\n",
       "qwen               0.253223  0.843249  0.539106\n",
       "qwen_10            0.262630  0.842734  0.545998\n",
       "qwen_all           0.359503  0.859416  0.590799\n",
       "trad_user_ratings  0.346722  0.860535  0.561327\n",
       "Random            -0.000704  0.822410  0.397119"
      ],
      "text/html": [
       "<div>\n",
       "<style scoped>\n",
       "    .dataframe tbody tr th:only-of-type {\n",
       "        vertical-align: middle;\n",
       "    }\n",
       "\n",
       "    .dataframe tbody tr th {\n",
       "        vertical-align: top;\n",
       "    }\n",
       "\n",
       "    .dataframe thead th {\n",
       "        text-align: right;\n",
       "    }\n",
       "</style>\n",
       "<table border=\"1\" class=\"dataframe\">\n",
       "  <thead>\n",
       "    <tr style=\"text-align: right;\">\n",
       "      <th></th>\n",
       "      <th>Spearman</th>\n",
       "      <th>NDCG</th>\n",
       "      <th>RBO</th>\n",
       "    </tr>\n",
       "    <tr>\n",
       "      <th>models</th>\n",
       "      <th></th>\n",
       "      <th></th>\n",
       "      <th></th>\n",
       "    </tr>\n",
       "  </thead>\n",
       "  <tbody>\n",
       "    <tr>\n",
       "      <th>llama70b</th>\n",
       "      <td>0.241217</td>\n",
       "      <td>0.840547</td>\n",
       "      <td>0.530276</td>\n",
       "    </tr>\n",
       "    <tr>\n",
       "      <th>llama70b_10</th>\n",
       "      <td>0.271352</td>\n",
       "      <td>0.844695</td>\n",
       "      <td>0.542488</td>\n",
       "    </tr>\n",
       "    <tr>\n",
       "      <th>llama70b_all</th>\n",
       "      <td>0.419372</td>\n",
       "      <td>0.877469</td>\n",
       "      <td>0.595141</td>\n",
       "    </tr>\n",
       "    <tr>\n",
       "      <th>qwen</th>\n",
       "      <td>0.253223</td>\n",
       "      <td>0.843249</td>\n",
       "      <td>0.539106</td>\n",
       "    </tr>\n",
       "    <tr>\n",
       "      <th>qwen_10</th>\n",
       "      <td>0.262630</td>\n",
       "      <td>0.842734</td>\n",
       "      <td>0.545998</td>\n",
       "    </tr>\n",
       "    <tr>\n",
       "      <th>qwen_all</th>\n",
       "      <td>0.359503</td>\n",
       "      <td>0.859416</td>\n",
       "      <td>0.590799</td>\n",
       "    </tr>\n",
       "    <tr>\n",
       "      <th>trad_user_ratings</th>\n",
       "      <td>0.346722</td>\n",
       "      <td>0.860535</td>\n",
       "      <td>0.561327</td>\n",
       "    </tr>\n",
       "    <tr>\n",
       "      <th>Random</th>\n",
       "      <td>-0.000704</td>\n",
       "      <td>0.822410</td>\n",
       "      <td>0.397119</td>\n",
       "    </tr>\n",
       "  </tbody>\n",
       "</table>\n",
       "</div>"
      ]
     },
     "execution_count": 215,
     "metadata": {},
     "output_type": "execute_result"
    }
   ],
   "execution_count": 215
  },
  {
   "metadata": {
    "ExecuteTime": {
     "end_time": "2024-12-11T18:18:06.170347Z",
     "start_time": "2024-12-11T18:18:05.828493Z"
    }
   },
   "cell_type": "code",
   "source": [
    "import matplotlib.pyplot as plt\n",
    "\n",
    "models = [x.split('/')[1].split('.')[0] for x in csv_files]\n",
    "models.append('Random')\n",
    "\n",
    "data = {\n",
    "    'models': models,\n",
    "    'spearmans': spearmans,\n",
    "    'ndcgs': ndcgs,\n",
    "    'rbos': rbos\n",
    "}\n",
    "\n",
    "# Create a DataFrame from the dictionary\n",
    "df = pd.DataFrame(data)\n",
    "df['models'] = df['models'].apply(lambda x: x.replace('_rp', '').strip())\n",
    "df.rename(columns={'spearmans': 'Spearman', 'ndcgs': 'NDCG', 'rbos': 'RBO'}, inplace=True)\n",
    "df.set_index('models', inplace=True)\n",
    "# Set 'run_name' as the index\n",
    "\n",
    "# Plot settings\n",
    "metrics = ['Spearman', 'NDCG', 'RBO']\n",
    "colors = ['#1f77b4', '#ff7f0e', '#2ca02c', '#d62728']  # Colors for the base and llama8\n",
    "\n",
    "# Create a plot for each metric\n",
    "fig, axs = plt.subplots(3, figsize=(11, 7))\n",
    "\n",
    "for i, metric in enumerate(metrics):\n",
    "    ax = axs[i]\n",
    "    base_values = df.loc[['llama70b', 'llama70b_10', 'llama70b_all'], metric].values\n",
    "    llama8_values = df.loc[['qwen', 'qwen_10', 'qwen_all'], metric].values\n",
    "    trad_values = df.loc[['trad_user_ratings'], metric].values\n",
    "    rand_values = df.loc[['Random'], metric].values\n",
    "\n",
    "    # Bar positions\n",
    "    bar_width = 0.25\n",
    "    base_positions = [0, bar_width, 2*bar_width]\n",
    "    llama8_positions = [1, 1+bar_width, 1+2*bar_width]\n",
    "    trad_pos = [2]\n",
    "    rand_pos = [2 + 2*bar_width]\n",
    "    # llama8_positions = [1, 3]\n",
    "\n",
    "    # Plot bars\n",
    "    all_bars = []\n",
    "    all_bars.append(ax.bar(base_positions, base_values, color=colors[0], width=bar_width, label='Llama3.1 70B'))\n",
    "    all_bars.append(ax.bar(llama8_positions, llama8_values, color=colors[1], width=bar_width, label='Qwen2.5 32B'))\n",
    "    all_bars.append(ax.bar(trad_pos, trad_values, color=colors[2], width=bar_width, label='Traditional'))\n",
    "    all_bars.append(ax.bar(rand_pos, rand_values, color=colors[3], width=bar_width, label='Random'))\n",
    "\n",
    "    for bars in all_bars:\n",
    "        for bar in bars:\n",
    "            height = bar.get_height()\n",
    "            ax.text(bar.get_x() + bar.get_width() / 2, height, f'{height:.2f}', ha='center', va='bottom')\n",
    "\n",
    "    # Set x-ticks and labels\n",
    "    ax.set_xticks(base_positions+llama8_positions+trad_pos+rand_pos)\n",
    "    ax.set_xticklabels(['Llama-5shot', 'Llama-10shot', 'Llama-all'] + ['Qwen-5shot', 'Qwen-10shot', 'Qwen-all'] + ['Traditional'] + ['Random'])\n",
    "\n",
    "    # Set title and labels\n",
    "    ax.set_title(f'{metric} Comparison')\n",
    "    ax.set_ylabel('Score')\n",
    "    if i == 0:\n",
    "        ax.legend(loc='upper left')\n",
    "    # ax.legend()\n",
    "\n",
    "# Adjust layout\n",
    "plt.tight_layout()\n",
    "plt.savefig('all_aligned.png')\n",
    "plt.show()"
   ],
   "id": "115ed99cca582e40",
   "outputs": [
    {
     "data": {
      "text/plain": [
       "<Figure size 1100x700 with 3 Axes>"
      ],
      "image/png": "[encoded data removed]"
     },
     "metadata": {},
     "output_type": "display_data"
    }
   ],
   "execution_count": 234
  },
  {
   "metadata": {
    "ExecuteTime": {
     "end_time": "2024-12-11T17:26:19.602951Z",
     "start_time": "2024-12-11T17:26:19.601564Z"
    }
   },
   "cell_type": "code",
   "source": "",
   "id": "316e5d05634fe1ed",
   "outputs": [],
   "execution_count": null
  },
  {
   "metadata": {
    "ExecuteTime": {
     "end_time": "2024-12-11T17:26:19.610613Z",
     "start_time": "2024-12-11T17:26:19.608940Z"
    }
   },
   "cell_type": "code",
   "source": [
    "# import matplotlib.pyplot as plt\n",
    "#\n",
    "# # Bar chart for spear and ndcg\n",
    "#\n",
    "# n_models = len(models)\n",
    "#\n",
    "# index = np.arange(n_models)\n",
    "# bar_width = 0.2\n",
    "#\n",
    "# plt.figure(figsize=[8,4])\n",
    "#\n",
    "# plt.bar(index, spearmans, bar_width, label='Spearman')\n",
    "# plt.bar(index + bar_width, ndcgs, bar_width, label='NDCG')\n",
    "# plt.bar(index + bar_width + bar_width, rbos, bar_width, label='rbo')\n",
    "# plt.xlabel('Model')\n",
    "# plt.ylabel('Error Metric')\n",
    "# plt.title('Error Metrics by Model')\n",
    "# plt.xticks(index + bar_width / 2, models)\n",
    "# plt.legend()\n",
    "# plt.show()"
   ],
   "id": "f94ade38bca670d6",
   "outputs": [],
   "execution_count": 217
  },
  {
   "metadata": {},
   "cell_type": "markdown",
   "source": "Testing",
   "id": "e5bd6f98167c5967"
  },
  {
   "metadata": {
    "ExecuteTime": {
     "end_time": "2024-12-11T17:26:19.629155Z",
     "start_time": "2024-12-11T17:26:19.627672Z"
    }
   },
   "cell_type": "code",
   "source": [
    "# def get_ranked_indices(lst, reference_list):\n",
    "#     return [reference_list.index(item) for item in lst]"
   ],
   "id": "2c1795e698cfde9b",
   "outputs": [],
   "execution_count": 218
  },
  {
   "metadata": {
    "ExecuteTime": {
     "end_time": "2024-12-11T17:26:19.652998Z",
     "start_time": "2024-12-11T17:26:19.648896Z"
    }
   },
   "cell_type": "code",
   "source": [
    "df_10 = pd.read_csv('llm_output_processed/llama70b_rp_10.csv')\n",
    "len(df_10)"
   ],
   "id": "f86df32c2fbf384a",
   "outputs": [
    {
     "data": {
      "text/plain": [
       "6100"
      ]
     },
     "execution_count": 219,
     "metadata": {},
     "output_type": "execute_result"
    }
   ],
   "execution_count": 219
  },
  {
   "metadata": {
    "ExecuteTime": {
     "end_time": "2024-12-11T17:26:19.736821Z",
     "start_time": "2024-12-11T17:26:19.659012Z"
    }
   },
   "cell_type": "code",
   "source": [
    "df2 = pd.read_csv('orig_data/all_ratings.csv')\n",
    "\n",
    "df_all = pd.read_csv('llm_output_processed/llama70b_rp_all.csv')\n",
    "merged = df2.merge(df_all, on=['userId', 'title'], how='inner')\n",
    "merged_df = group_and_sort(merged)\n",
    "merged_df['rbo'] = merged_df.apply(lambda x: rbo(x.pred_list, x.true_list), axis=1)\n",
    "merged_df['ranked_indices'] = merged_df.apply(lambda x: get_ranked_indices(x.pred_list, x.true_list), axis=1)"
   ],
   "id": "62eda54c8661ca88",
   "outputs": [],
   "execution_count": 220
  },
  {
   "metadata": {
    "ExecuteTime": {
     "end_time": "2024-12-11T17:26:19.750320Z",
     "start_time": "2024-12-11T17:26:19.746495Z"
    }
   },
   "cell_type": "code",
   "source": "df2",
   "id": "c2e199c8b8ee5d95",
   "outputs": [
    {
     "data": {
      "text/plain": [
       "        userId  rating                           title\n",
       "0            1     4.0                Toy Story (1995)\n",
       "1            1     4.0         Grumpier Old Men (1995)\n",
       "2            1     4.0                     Heat (1995)\n",
       "3            1     5.0     Seven (a.k.a. Se7en) (1995)\n",
       "4            1     5.0      Usual Suspects, The (1995)\n",
       "...        ...     ...                             ...\n",
       "100831     610     4.0                    Split (2017)\n",
       "100832     610     5.0   John Wick: Chapter Two (2017)\n",
       "100833     610     5.0                  Get Out (2017)\n",
       "100834     610     5.0                    Logan (2017)\n",
       "100835     610     3.0  The Fate of the Furious (2017)\n",
       "\n",
       "[100836 rows x 3 columns]"
      ],
      "text/html": [
       "<div>\n",
       "<style scoped>\n",
       "    .dataframe tbody tr th:only-of-type {\n",
       "        vertical-align: middle;\n",
       "    }\n",
       "\n",
       "    .dataframe tbody tr th {\n",
       "        vertical-align: top;\n",
       "    }\n",
       "\n",
       "    .dataframe thead th {\n",
       "        text-align: right;\n",
       "    }\n",
       "</style>\n",
       "<table border=\"1\" class=\"dataframe\">\n",
       "  <thead>\n",
       "    <tr style=\"text-align: right;\">\n",
       "      <th></th>\n",
       "      <th>userId</th>\n",
       "      <th>rating</th>\n",
       "      <th>title</th>\n",
       "    </tr>\n",
       "  </thead>\n",
       "  <tbody>\n",
       "    <tr>\n",
       "      <th>0</th>\n",
       "      <td>1</td>\n",
       "      <td>4.0</td>\n",
       "      <td>Toy Story (1995)</td>\n",
       "    </tr>\n",
       "    <tr>\n",
       "      <th>1</th>\n",
       "      <td>1</td>\n",
       "      <td>4.0</td>\n",
       "      <td>Grumpier Old Men (1995)</td>\n",
       "    </tr>\n",
       "    <tr>\n",
       "      <th>2</th>\n",
       "      <td>1</td>\n",
       "      <td>4.0</td>\n",
       "      <td>Heat (1995)</td>\n",
       "    </tr>\n",
       "    <tr>\n",
       "      <th>3</th>\n",
       "      <td>1</td>\n",
       "      <td>5.0</td>\n",
       "      <td>Seven (a.k.a. Se7en) (1995)</td>\n",
       "    </tr>\n",
       "    <tr>\n",
       "      <th>4</th>\n",
       "      <td>1</td>\n",
       "      <td>5.0</td>\n",
       "      <td>Usual Suspects, The (1995)</td>\n",
       "    </tr>\n",
       "    <tr>\n",
       "      <th>...</th>\n",
       "      <td>...</td>\n",
       "      <td>...</td>\n",
       "      <td>...</td>\n",
       "    </tr>\n",
       "    <tr>\n",
       "      <th>100831</th>\n",
       "      <td>610</td>\n",
       "      <td>4.0</td>\n",
       "      <td>Split (2017)</td>\n",
       "    </tr>\n",
       "    <tr>\n",
       "      <th>100832</th>\n",
       "      <td>610</td>\n",
       "      <td>5.0</td>\n",
       "      <td>John Wick: Chapter Two (2017)</td>\n",
       "    </tr>\n",
       "    <tr>\n",
       "      <th>100833</th>\n",
       "      <td>610</td>\n",
       "      <td>5.0</td>\n",
       "      <td>Get Out (2017)</td>\n",
       "    </tr>\n",
       "    <tr>\n",
       "      <th>100834</th>\n",
       "      <td>610</td>\n",
       "      <td>5.0</td>\n",
       "      <td>Logan (2017)</td>\n",
       "    </tr>\n",
       "    <tr>\n",
       "      <th>100835</th>\n",
       "      <td>610</td>\n",
       "      <td>3.0</td>\n",
       "      <td>The Fate of the Furious (2017)</td>\n",
       "    </tr>\n",
       "  </tbody>\n",
       "</table>\n",
       "<p>100836 rows × 3 columns</p>\n",
       "</div>"
      ]
     },
     "execution_count": 221,
     "metadata": {},
     "output_type": "execute_result"
    }
   ],
   "execution_count": 221
  },
  {
   "metadata": {
    "ExecuteTime": {
     "end_time": "2024-12-11T17:26:19.781242Z",
     "start_time": "2024-12-11T17:26:19.777259Z"
    }
   },
   "cell_type": "code",
   "source": "df_all",
   "id": "cb115777e25dffe0",
   "outputs": [
    {
     "data": {
      "text/plain": [
       "      userId                             title  predicted_rating\n",
       "0          1                  Tommy Boy (1995)               5.0\n",
       "1          2           Dark Knight, The (2008)               4.0\n",
       "2          3            Field of Dreams (1989)               4.0\n",
       "3          4    Philadelphia Story, The (1940)               4.0\n",
       "4          5         Secret Garden, The (1993)               4.0\n",
       "...      ...                               ...               ...\n",
       "6085     606                  Cape Fear (1991)               4.0\n",
       "6086     607  Silence of the Lambs, The (1991)               5.0\n",
       "6087     608                   WarGames (1983)               4.0\n",
       "6088     609                     Eraser (1996)               3.0\n",
       "6089     610     History of Violence, A (2005)               4.0\n",
       "\n",
       "[6090 rows x 3 columns]"
      ],
      "text/html": [
       "<div>\n",
       "<style scoped>\n",
       "    .dataframe tbody tr th:only-of-type {\n",
       "        vertical-align: middle;\n",
       "    }\n",
       "\n",
       "    .dataframe tbody tr th {\n",
       "        vertical-align: top;\n",
       "    }\n",
       "\n",
       "    .dataframe thead th {\n",
       "        text-align: right;\n",
       "    }\n",
       "</style>\n",
       "<table border=\"1\" class=\"dataframe\">\n",
       "  <thead>\n",
       "    <tr style=\"text-align: right;\">\n",
       "      <th></th>\n",
       "      <th>userId</th>\n",
       "      <th>title</th>\n",
       "      <th>predicted_rating</th>\n",
       "    </tr>\n",
       "  </thead>\n",
       "  <tbody>\n",
       "    <tr>\n",
       "      <th>0</th>\n",
       "      <td>1</td>\n",
       "      <td>Tommy Boy (1995)</td>\n",
       "      <td>5.0</td>\n",
       "    </tr>\n",
       "    <tr>\n",
       "      <th>1</th>\n",
       "      <td>2</td>\n",
       "      <td>Dark Knight, The (2008)</td>\n",
       "      <td>4.0</td>\n",
       "    </tr>\n",
       "    <tr>\n",
       "      <th>2</th>\n",
       "      <td>3</td>\n",
       "      <td>Field of Dreams (1989)</td>\n",
       "      <td>4.0</td>\n",
       "    </tr>\n",
       "    <tr>\n",
       "      <th>3</th>\n",
       "      <td>4</td>\n",
       "      <td>Philadelphia Story, The (1940)</td>\n",
       "      <td>4.0</td>\n",
       "    </tr>\n",
       "    <tr>\n",
       "      <th>4</th>\n",
       "      <td>5</td>\n",
       "      <td>Secret Garden, The (1993)</td>\n",
       "      <td>4.0</td>\n",
       "    </tr>\n",
       "    <tr>\n",
       "      <th>...</th>\n",
       "      <td>...</td>\n",
       "      <td>...</td>\n",
       "      <td>...</td>\n",
       "    </tr>\n",
       "    <tr>\n",
       "      <th>6085</th>\n",
       "      <td>606</td>\n",
       "      <td>Cape Fear (1991)</td>\n",
       "      <td>4.0</td>\n",
       "    </tr>\n",
       "    <tr>\n",
       "      <th>6086</th>\n",
       "      <td>607</td>\n",
       "      <td>Silence of the Lambs, The (1991)</td>\n",
       "      <td>5.0</td>\n",
       "    </tr>\n",
       "    <tr>\n",
       "      <th>6087</th>\n",
       "      <td>608</td>\n",
       "      <td>WarGames (1983)</td>\n",
       "      <td>4.0</td>\n",
       "    </tr>\n",
       "    <tr>\n",
       "      <th>6088</th>\n",
       "      <td>609</td>\n",
       "      <td>Eraser (1996)</td>\n",
       "      <td>3.0</td>\n",
       "    </tr>\n",
       "    <tr>\n",
       "      <th>6089</th>\n",
       "      <td>610</td>\n",
       "      <td>History of Violence, A (2005)</td>\n",
       "      <td>4.0</td>\n",
       "    </tr>\n",
       "  </tbody>\n",
       "</table>\n",
       "<p>6090 rows × 3 columns</p>\n",
       "</div>"
      ]
     },
     "execution_count": 222,
     "metadata": {},
     "output_type": "execute_result"
    }
   ],
   "execution_count": 222
  },
  {
   "metadata": {
    "ExecuteTime": {
     "end_time": "2024-12-11T17:26:19.823102Z",
     "start_time": "2024-12-11T17:26:19.820875Z"
    }
   },
   "cell_type": "code",
   "source": "merged_df = merged_df[merged_df['ranked_indices'].apply(len) > 3]",
   "id": "2606929e08516c06",
   "outputs": [],
   "execution_count": 223
  },
  {
   "metadata": {
    "ExecuteTime": {
     "end_time": "2024-12-11T17:26:19.857471Z",
     "start_time": "2024-12-11T17:26:19.848006Z"
    }
   },
   "cell_type": "code",
   "source": "merged_df",
   "id": "a85f1a015e769be",
   "outputs": [
    {
     "data": {
      "text/plain": [
       "     userId                                          pred_dict  \\\n",
       "0         1  {'Tommy Boy (1995)': 5.0, 'Mask, The (1994)': ...   \n",
       "1         2  {'Tommy Boy (1995)': 4.0, 'Dark Knight, The (2...   \n",
       "2         3  {'Field of Dreams (1989)': 4.0, 'Conan the Bar...   \n",
       "3         4  {'Ed Wood (1994)': 4.0, 'Dazed and Confused (1...   \n",
       "4         5  {'Postman, The (Postino, Il) (1994)': 4.0, 'Br...   \n",
       "..      ...                                                ...   \n",
       "604     606  {'Godfather, The (1972)': 4.5, 'Cape Fear (199...   \n",
       "605     607  {'Silence of the Lambs, The (1991)': 5.0, 'Tru...   \n",
       "606     608  {'Dragonheart (1996)': 3.5, 'L.A. Confidential...   \n",
       "607     609  {'Toy Story (1995)': 3.0, 'Braveheart (1995)':...   \n",
       "608     610  {'Blade Runner (1982)': 4.5, 'Windtalkers (200...   \n",
       "\n",
       "                                             true_dict  \\\n",
       "0    {'Tommy Boy (1995)': 5.0, 'Mask, The (1994)': ...   \n",
       "1    {'Tommy Boy (1995)': 4.0, 'Dark Knight, The (2...   \n",
       "2    {'Field of Dreams (1989)': 0.5, 'Conan the Bar...   \n",
       "3    {'Ed Wood (1994)': 2.0, 'Dazed and Confused (1...   \n",
       "4    {'Postman, The (Postino, Il) (1994)': 5.0, 'Br...   \n",
       "..                                                 ...   \n",
       "604  {'Godfather, The (1972)': 4.0, 'Cape Fear (199...   \n",
       "605  {'Silence of the Lambs, The (1991)': 5.0, 'Tru...   \n",
       "606  {'Dragonheart (1996)': 3.5, 'L.A. Confidential...   \n",
       "607  {'Toy Story (1995)': 3.0, 'Braveheart (1995)':...   \n",
       "608  {'Blade Runner (1982)': 5.0, 'Windtalkers (200...   \n",
       "\n",
       "                                             pred_list  \\\n",
       "0    [Tommy Boy (1995), Wizard of Oz, The (1939), D...   \n",
       "1    [The Jinx: The Life and Deaths of Robert Durst...   \n",
       "2    [Master of the Flying Guillotine (Du bi quan w...   \n",
       "3    [Amadeus (1984), West Side Story (1961), Ed Wo...   \n",
       "4    [Braveheart (1995), Pinocchio (1940), Postman,...   \n",
       "..                                                 ...   \n",
       "604  [Godfather, The (1972), Into the Wild (2007), ...   \n",
       "605  [Silence of the Lambs, The (1991), Poltergeist...   \n",
       "606  [L.A. Confidential (1997), Suicide Kings (1997...   \n",
       "607  [Braveheart (1995), Pulp Fiction (1994), Shaws...   \n",
       "608  [Blade Runner (1982), Better Tomorrow, A (Ying...   \n",
       "\n",
       "                                             true_list       rbo  \\\n",
       "0    [Tommy Boy (1995), Wizard of Oz, The (1939), D...  0.870873   \n",
       "1    [Warrior (2011), Mad Max: Fury Road (2015), Th...  0.355357   \n",
       "2    [Road Warrior, The (Mad Max 2) (1981), Hangar ...  0.420833   \n",
       "3    [Philadelphia Story, The (1940), Waiting for G...  0.426190   \n",
       "4    [Postman, The (Postino, Il) (1994), Pinocchio ...  0.616327   \n",
       "..                                                 ...       ...   \n",
       "604  [Ice Age (2002), Godfather, The (1972), Into t...  0.656429   \n",
       "605  [Silence of the Lambs, The (1991), Con Air (19...  0.711111   \n",
       "606  [Payback (1999), Suicide Kings (1997), Patch A...  0.569524   \n",
       "607  [Pulp Fiction (1994), Shawshank Redemption, Th...  0.593563   \n",
       "608  [Blade Runner (1982), It Follows (2014), Bette...  0.739206   \n",
       "\n",
       "                     ranked_indices  \n",
       "0    [0, 1, 2, 3, 6, 4, 7, 8, 9, 5]  \n",
       "1          [2, 6, 7, 5, 3, 4, 0, 1]  \n",
       "2          [6, 0, 5, 3, 7, 4, 1, 2]  \n",
       "3    [3, 2, 7, 8, 0, 1, 9, 5, 4, 6]  \n",
       "4             [2, 1, 0, 4, 6, 3, 5]  \n",
       "..                              ...  \n",
       "604  [1, 2, 3, 4, 7, 0, 5, 6, 8, 9]  \n",
       "605  [0, 5, 4, 1, 2, 3, 6, 8, 9, 7]  \n",
       "606  [5, 1, 2, 0, 8, 7, 3, 6, 4, 9]  \n",
       "607     [4, 0, 1, 3, 5, 6, 7, 8, 2]  \n",
       "608  [0, 2, 3, 5, 1, 6, 4, 9, 8, 7]  \n",
       "\n",
       "[609 rows x 7 columns]"
      ],
      "text/html": [
       "<div>\n",
       "<style scoped>\n",
       "    .dataframe tbody tr th:only-of-type {\n",
       "        vertical-align: middle;\n",
       "    }\n",
       "\n",
       "    .dataframe tbody tr th {\n",
       "        vertical-align: top;\n",
       "    }\n",
       "\n",
       "    .dataframe thead th {\n",
       "        text-align: right;\n",
       "    }\n",
       "</style>\n",
       "<table border=\"1\" class=\"dataframe\">\n",
       "  <thead>\n",
       "    <tr style=\"text-align: right;\">\n",
       "      <th></th>\n",
       "      <th>userId</th>\n",
       "      <th>pred_dict</th>\n",
       "      <th>true_dict</th>\n",
       "      <th>pred_list</th>\n",
       "      <th>true_list</th>\n",
       "      <th>rbo</th>\n",
       "      <th>ranked_indices</th>\n",
       "    </tr>\n",
       "  </thead>\n",
       "  <tbody>\n",
       "    <tr>\n",
       "      <th>0</th>\n",
       "      <td>1</td>\n",
       "      <td>{'Tommy Boy (1995)': 5.0, 'Mask, The (1994)': ...</td>\n",
       "      <td>{'Tommy Boy (1995)': 5.0, 'Mask, The (1994)': ...</td>\n",
       "      <td>[Tommy Boy (1995), Wizard of Oz, The (1939), D...</td>\n",
       "      <td>[Tommy Boy (1995), Wizard of Oz, The (1939), D...</td>\n",
       "      <td>0.870873</td>\n",
       "      <td>[0, 1, 2, 3, 6, 4, 7, 8, 9, 5]</td>\n",
       "    </tr>\n",
       "    <tr>\n",
       "      <th>1</th>\n",
       "      <td>2</td>\n",
       "      <td>{'Tommy Boy (1995)': 4.0, 'Dark Knight, The (2...</td>\n",
       "      <td>{'Tommy Boy (1995)': 4.0, 'Dark Knight, The (2...</td>\n",
       "      <td>[The Jinx: The Life and Deaths of Robert Durst...</td>\n",
       "      <td>[Warrior (2011), Mad Max: Fury Road (2015), Th...</td>\n",
       "      <td>0.355357</td>\n",
       "      <td>[2, 6, 7, 5, 3, 4, 0, 1]</td>\n",
       "    </tr>\n",
       "    <tr>\n",
       "      <th>2</th>\n",
       "      <td>3</td>\n",
       "      <td>{'Field of Dreams (1989)': 4.0, 'Conan the Bar...</td>\n",
       "      <td>{'Field of Dreams (1989)': 0.5, 'Conan the Bar...</td>\n",
       "      <td>[Master of the Flying Guillotine (Du bi quan w...</td>\n",
       "      <td>[Road Warrior, The (Mad Max 2) (1981), Hangar ...</td>\n",
       "      <td>0.420833</td>\n",
       "      <td>[6, 0, 5, 3, 7, 4, 1, 2]</td>\n",
       "    </tr>\n",
       "    <tr>\n",
       "      <th>3</th>\n",
       "      <td>4</td>\n",
       "      <td>{'Ed Wood (1994)': 4.0, 'Dazed and Confused (1...</td>\n",
       "      <td>{'Ed Wood (1994)': 2.0, 'Dazed and Confused (1...</td>\n",
       "      <td>[Amadeus (1984), West Side Story (1961), Ed Wo...</td>\n",
       "      <td>[Philadelphia Story, The (1940), Waiting for G...</td>\n",
       "      <td>0.426190</td>\n",
       "      <td>[3, 2, 7, 8, 0, 1, 9, 5, 4, 6]</td>\n",
       "    </tr>\n",
       "    <tr>\n",
       "      <th>4</th>\n",
       "      <td>5</td>\n",
       "      <td>{'Postman, The (Postino, Il) (1994)': 4.0, 'Br...</td>\n",
       "      <td>{'Postman, The (Postino, Il) (1994)': 5.0, 'Br...</td>\n",
       "      <td>[Braveheart (1995), Pinocchio (1940), Postman,...</td>\n",
       "      <td>[Postman, The (Postino, Il) (1994), Pinocchio ...</td>\n",
       "      <td>0.616327</td>\n",
       "      <td>[2, 1, 0, 4, 6, 3, 5]</td>\n",
       "    </tr>\n",
       "    <tr>\n",
       "      <th>...</th>\n",
       "      <td>...</td>\n",
       "      <td>...</td>\n",
       "      <td>...</td>\n",
       "      <td>...</td>\n",
       "      <td>...</td>\n",
       "      <td>...</td>\n",
       "      <td>...</td>\n",
       "    </tr>\n",
       "    <tr>\n",
       "      <th>604</th>\n",
       "      <td>606</td>\n",
       "      <td>{'Godfather, The (1972)': 4.5, 'Cape Fear (199...</td>\n",
       "      <td>{'Godfather, The (1972)': 4.0, 'Cape Fear (199...</td>\n",
       "      <td>[Godfather, The (1972), Into the Wild (2007), ...</td>\n",
       "      <td>[Ice Age (2002), Godfather, The (1972), Into t...</td>\n",
       "      <td>0.656429</td>\n",
       "      <td>[1, 2, 3, 4, 7, 0, 5, 6, 8, 9]</td>\n",
       "    </tr>\n",
       "    <tr>\n",
       "      <th>605</th>\n",
       "      <td>607</td>\n",
       "      <td>{'Silence of the Lambs, The (1991)': 5.0, 'Tru...</td>\n",
       "      <td>{'Silence of the Lambs, The (1991)': 5.0, 'Tru...</td>\n",
       "      <td>[Silence of the Lambs, The (1991), Poltergeist...</td>\n",
       "      <td>[Silence of the Lambs, The (1991), Con Air (19...</td>\n",
       "      <td>0.711111</td>\n",
       "      <td>[0, 5, 4, 1, 2, 3, 6, 8, 9, 7]</td>\n",
       "    </tr>\n",
       "    <tr>\n",
       "      <th>606</th>\n",
       "      <td>608</td>\n",
       "      <td>{'Dragonheart (1996)': 3.5, 'L.A. Confidential...</td>\n",
       "      <td>{'Dragonheart (1996)': 3.5, 'L.A. Confidential...</td>\n",
       "      <td>[L.A. Confidential (1997), Suicide Kings (1997...</td>\n",
       "      <td>[Payback (1999), Suicide Kings (1997), Patch A...</td>\n",
       "      <td>0.569524</td>\n",
       "      <td>[5, 1, 2, 0, 8, 7, 3, 6, 4, 9]</td>\n",
       "    </tr>\n",
       "    <tr>\n",
       "      <th>607</th>\n",
       "      <td>609</td>\n",
       "      <td>{'Toy Story (1995)': 3.0, 'Braveheart (1995)':...</td>\n",
       "      <td>{'Toy Story (1995)': 3.0, 'Braveheart (1995)':...</td>\n",
       "      <td>[Braveheart (1995), Pulp Fiction (1994), Shaws...</td>\n",
       "      <td>[Pulp Fiction (1994), Shawshank Redemption, Th...</td>\n",
       "      <td>0.593563</td>\n",
       "      <td>[4, 0, 1, 3, 5, 6, 7, 8, 2]</td>\n",
       "    </tr>\n",
       "    <tr>\n",
       "      <th>608</th>\n",
       "      <td>610</td>\n",
       "      <td>{'Blade Runner (1982)': 4.5, 'Windtalkers (200...</td>\n",
       "      <td>{'Blade Runner (1982)': 5.0, 'Windtalkers (200...</td>\n",
       "      <td>[Blade Runner (1982), Better Tomorrow, A (Ying...</td>\n",
       "      <td>[Blade Runner (1982), It Follows (2014), Bette...</td>\n",
       "      <td>0.739206</td>\n",
       "      <td>[0, 2, 3, 5, 1, 6, 4, 9, 8, 7]</td>\n",
       "    </tr>\n",
       "  </tbody>\n",
       "</table>\n",
       "<p>609 rows × 7 columns</p>\n",
       "</div>"
      ]
     },
     "execution_count": 224,
     "metadata": {},
     "output_type": "execute_result"
    }
   ],
   "execution_count": 224
  },
  {
   "metadata": {
    "ExecuteTime": {
     "end_time": "2024-12-11T17:26:19.884895Z",
     "start_time": "2024-12-11T17:26:19.882487Z"
    }
   },
   "cell_type": "code",
   "source": "len(merged_df)",
   "id": "564519b72c0858f3",
   "outputs": [
    {
     "data": {
      "text/plain": [
       "609"
      ]
     },
     "execution_count": 225,
     "metadata": {},
     "output_type": "execute_result"
    }
   ],
   "execution_count": 225
  },
  {
   "metadata": {
    "ExecuteTime": {
     "end_time": "2024-12-11T17:26:19.915580Z",
     "start_time": "2024-12-11T17:26:19.912544Z"
    }
   },
   "cell_type": "code",
   "source": [
    "pr, tr = merged_df.head(1)[['pred_list', 'true_list']].values[0]\n",
    "get_ranked_indices(pr, tr)\n",
    "a = ndcg(pr,tr)\n",
    "a"
   ],
   "id": "b00d703c1d6555a8",
   "outputs": [
    {
     "data": {
      "text/plain": [
       "0.9908716117150927"
      ]
     },
     "execution_count": 226,
     "metadata": {},
     "output_type": "execute_result"
    }
   ],
   "execution_count": 226
  },
  {
   "metadata": {
    "ExecuteTime": {
     "end_time": "2024-12-11T17:26:19.931960Z",
     "start_time": "2024-12-11T17:26:19.929711Z"
    }
   },
   "cell_type": "code",
   "source": "np.log2(1)",
   "id": "f284ad7c080e7d9e",
   "outputs": [
    {
     "data": {
      "text/plain": [
       "0.0"
      ]
     },
     "execution_count": 227,
     "metadata": {},
     "output_type": "execute_result"
    }
   ],
   "execution_count": 227
  },
  {
   "metadata": {
    "ExecuteTime": {
     "end_time": "2024-12-11T17:26:19.944344Z",
     "start_time": "2024-12-11T17:26:19.942184Z"
    }
   },
   "cell_type": "code",
   "source": [
    "a = ndcg(pr, tr)\n",
    "a"
   ],
   "id": "1f2e1225c32a5b51",
   "outputs": [
    {
     "data": {
      "text/plain": [
       "0.9908716117150927"
      ]
     },
     "execution_count": 228,
     "metadata": {},
     "output_type": "execute_result"
    }
   ],
   "execution_count": 228
  },
  {
   "metadata": {
    "ExecuteTime": {
     "end_time": "2024-12-11T17:26:19.959070Z",
     "start_time": "2024-12-11T17:26:19.957265Z"
    }
   },
   "cell_type": "code",
   "source": [
    "my_rbo = rbo(pr, tr)\n",
    "\n",
    "print(f\"rbo index: {my_rbo}\")\n"
   ],
   "id": "1d1e2396e9ec5a41",
   "outputs": [
    {
     "name": "stdout",
     "output_type": "stream",
     "text": [
      "rbo index: 0.8708730158730159\n"
     ]
    }
   ],
   "execution_count": 229
  },
  {
   "metadata": {
    "ExecuteTime": {
     "end_time": "2024-12-11T17:26:19.971849Z",
     "start_time": "2024-12-11T17:26:19.970079Z"
    }
   },
   "cell_type": "code",
   "source": "pr,tr = [9,8,7,6,5,4,3,2,1,0], [0,1,2,3,4,5,6,7,8,9]",
   "id": "9be15b4ccff33703",
   "outputs": [],
   "execution_count": 230
  },
  {
   "metadata": {
    "ExecuteTime": {
     "end_time": "2024-12-11T17:26:19.993293Z",
     "start_time": "2024-12-11T17:26:19.991014Z"
    }
   },
   "cell_type": "code",
   "source": "get_ranked_indices(pr, tr)",
   "id": "e9a3f0de943babbb",
   "outputs": [
    {
     "data": {
      "text/plain": [
       "[9, 8, 7, 6, 5, 4, 3, 2, 1, 0]"
      ]
     },
     "execution_count": 231,
     "metadata": {},
     "output_type": "execute_result"
    }
   ],
   "execution_count": 231
  },
  {
   "metadata": {
    "ExecuteTime": {
     "end_time": "2024-12-11T17:26:20.000002Z",
     "start_time": "2024-12-11T17:26:19.997948Z"
    }
   },
   "cell_type": "code",
   "source": "ndcg(pr, tr)",
   "id": "6b679676aa20c711",
   "outputs": [
    {
     "data": {
      "text/plain": [
       "0.5675670831396532"
      ]
     },
     "execution_count": 232,
     "metadata": {},
     "output_type": "execute_result"
    }
   ],
   "execution_count": 232
  }
 ],
 "metadata": {
  "kernelspec": {
   "display_name": "Python 3",
   "language": "python",
   "name": "python3"
  },
  "language_info": {
   "codemirror_mode": {
    "name": "ipython",
    "version": 2
   },
   "file_extension": ".py",
   "mimetype": "text/x-python",
   "name": "python",
   "nbconvert_exporter": "python",
   "pygments_lexer": "ipython2",
   "version": "2.7.6"
  }
 },
 "nbformat": 4,
 "nbformat_minor": 5
}
